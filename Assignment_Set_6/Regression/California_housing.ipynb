{
 "cells": [
  {
   "cell_type": "markdown",
   "metadata": {},
   "source": [
    "## Import Libraries"
   ]
  },
  {
   "cell_type": "code",
   "execution_count": 2,
   "metadata": {},
   "outputs": [],
   "source": [
    "import numpy as np\n",
    "import pandas as pd\n",
    "import matplotlib.pyplot as plt\n",
    "import torch\n",
    "import torch.nn as nn\n",
    "import torch.nn.functional as F\n",
    "import torchvision\n",
    "from torch.utils.data import DataLoader, TensorDataset, random_split"
   ]
  },
  {
   "cell_type": "markdown",
   "metadata": {},
   "source": [
    "## Data Preparation"
   ]
  },
  {
   "cell_type": "code",
   "execution_count": 13,
   "metadata": {},
   "outputs": [
    {
     "data": {
      "text/plain": [
       "Index(['longitude', 'latitude', 'housing_median_age', 'total_rooms',\n",
       "       'total_bedrooms', 'population', 'households', 'median_income',\n",
       "       'median_house_value', 'ocean_proximity'],\n",
       "      dtype='object')"
      ]
     },
     "execution_count": 13,
     "metadata": {},
     "output_type": "execute_result"
    }
   ],
   "source": [
    "df=pd.read_csv(\"housing.csv\")\n",
    "df.columns"
   ]
  },
  {
   "cell_type": "code",
   "execution_count": 14,
   "metadata": {},
   "outputs": [],
   "source": [
    "df.replace([np.inf, -np.inf], np.nan)\n",
    "df.dropna(inplace=True) "
   ]
  },
  {
   "cell_type": "code",
   "execution_count": 15,
   "metadata": {},
   "outputs": [],
   "source": [
    "targets = df[[\"median_house_value\"]].to_numpy()\n",
    "inputs = df.drop([\"median_house_value\", 'ocean_proximity'], axis=1).to_numpy()  "
   ]
  },
  {
   "cell_type": "code",
   "execution_count": 16,
   "metadata": {},
   "outputs": [],
   "source": [
    "inputs = torch.from_numpy(inputs)\n",
    "inputs = inputs.float()\n",
    "targets = torch.from_numpy(targets)\n",
    "targets = targets.float()"
   ]
  },
  {
   "cell_type": "code",
   "execution_count": 17,
   "metadata": {},
   "outputs": [],
   "source": [
    "inputs_mean = torch.mean(inputs, axis=0)\n",
    "targets_mean = torch.mean(targets, axis=0)\n",
    "inputs = inputs / inputs_mean  \n",
    "targets = targets / targets_mean "
   ]
  },
  {
   "cell_type": "code",
   "execution_count": 18,
   "metadata": {},
   "outputs": [],
   "source": [
    "dataset = TensorDataset(inputs, targets)"
   ]
  },
  {
   "cell_type": "code",
   "execution_count": 19,
   "metadata": {},
   "outputs": [],
   "source": [
    "train_loader = DataLoader(dataset, batch_size=64, shuffle=True)"
   ]
  },
  {
   "cell_type": "markdown",
   "metadata": {},
   "source": [
    "## Define Two Models"
   ]
  },
  {
   "cell_type": "code",
   "execution_count": 20,
   "metadata": {},
   "outputs": [],
   "source": [
    "model1 = nn.Sequential(nn.Linear(8, 4),\n",
    "                      nn.ReLU(),\n",
    "\n",
    "                      nn.Linear(4, 2),\n",
    "                      nn.Softmax(),\n",
    "\n",
    "                      \n",
    "                      nn.Linear(2, 1),\n",
    "                      nn.Sigmoid())\n",
    "\n",
    "model2 = nn.Sequential(nn.Linear(8, 4),\n",
    "                      nn.Softmax(),\n",
    "\n",
    "                      nn.Linear(4, 1),\n",
    "                      nn.ReLU())"
   ]
  },
  {
   "cell_type": "code",
   "execution_count": 25,
   "metadata": {},
   "outputs": [],
   "source": [
    "# Utility function to train the model\n",
    "def fit(num_epochs, model, criterion, optimizer, train_loader):\n",
    "    # Repeat for given number of epochs\n",
    "    for epoch in range(num_epochs):\n",
    "        # Train with batches of data\n",
    "        for xb,yb in train_loader:\n",
    "            # 1. Generate predictions\n",
    "            pred = model(xb)\n",
    "            # 2. Calculate loss\n",
    "            loss = criterion(pred, yb)\n",
    "            # 3. Compute gradients\n",
    "            loss.backward()\n",
    "            # 4. Update parameters using gradients\n",
    "            optimizer.step()\n",
    "            # 5. Reset the gradients to zero\n",
    "            optimizer.zero_grad()\n",
    "        # Print the progress\n",
    "        if (epoch+1) % 10 == 0:\n",
    "            print('Epoch [{}/{}], Loss: {:.4f}'.format(epoch+1, num_epochs, loss.item()))"
   ]
  },
  {
   "cell_type": "markdown",
   "metadata": {},
   "source": [
    "## Fit Model1"
   ]
  },
  {
   "cell_type": "code",
   "execution_count": 26,
   "metadata": {},
   "outputs": [
    {
     "name": "stdout",
     "output_type": "stream",
     "text": [
      "Epoch [10/100], Loss: 0.2315\n",
      "Epoch [20/100], Loss: 0.4351\n",
      "Epoch [30/100], Loss: 0.2716\n",
      "Epoch [40/100], Loss: 0.4443\n",
      "Epoch [50/100], Loss: 0.8036\n",
      "Epoch [60/100], Loss: 0.4235\n",
      "Epoch [70/100], Loss: 0.2056\n",
      "Epoch [80/100], Loss: 0.4862\n",
      "Epoch [90/100], Loss: 0.1465\n",
      "Epoch [100/100], Loss: 0.2487\n"
     ]
    }
   ],
   "source": [
    "# Define loss function\n",
    "criterion = F.mse_loss\n",
    "# Define optimizer\n",
    "optimizer = torch.optim.SGD(model1.parameters(), lr=1e-4)\n",
    "fit(100, model1, criterion, optimizer, train_loader)"
   ]
  },
  {
   "cell_type": "markdown",
   "metadata": {},
   "source": [
    "## Fit Model1 with Regularization"
   ]
  },
  {
   "cell_type": "code",
   "execution_count": 27,
   "metadata": {},
   "outputs": [
    {
     "name": "stdout",
     "output_type": "stream",
     "text": [
      "Epoch [10/100], Loss: 0.5234\n",
      "Epoch [20/100], Loss: 0.2387\n",
      "Epoch [30/100], Loss: 0.4271\n",
      "Epoch [40/100], Loss: 0.3930\n",
      "Epoch [50/100], Loss: 0.5617\n",
      "Epoch [60/100], Loss: 0.3767\n",
      "Epoch [70/100], Loss: 0.3616\n",
      "Epoch [80/100], Loss: 0.4181\n",
      "Epoch [90/100], Loss: 0.5975\n",
      "Epoch [100/100], Loss: 0.1678\n"
     ]
    }
   ],
   "source": [
    "# Define loss function\n",
    "criterion = F.mse_loss\n",
    "# Define optimizer\n",
    "optimizer = torch.optim.SGD(model1.parameters(),weight_decay=2, lr=1e-4)\n",
    "fit(100, model1, criterion, optimizer, train_loader)"
   ]
  },
  {
   "cell_type": "markdown",
   "metadata": {},
   "source": [
    "## Fit Model2"
   ]
  },
  {
   "cell_type": "code",
   "execution_count": 28,
   "metadata": {},
   "outputs": [
    {
     "name": "stdout",
     "output_type": "stream",
     "text": [
      "Epoch [10/100], Loss: 1.7673\n",
      "Epoch [20/100], Loss: 1.8055\n",
      "Epoch [30/100], Loss: 1.2797\n",
      "Epoch [40/100], Loss: 1.8131\n",
      "Epoch [50/100], Loss: 1.3826\n",
      "Epoch [60/100], Loss: 1.1318\n",
      "Epoch [70/100], Loss: 0.8978\n",
      "Epoch [80/100], Loss: 1.0484\n",
      "Epoch [90/100], Loss: 1.1879\n",
      "Epoch [100/100], Loss: 1.7616\n"
     ]
    }
   ],
   "source": [
    "# Define loss function\n",
    "criterion = F.mse_loss\n",
    "# Define optimizer\n",
    "optimizer = torch.optim.SGD(model2.parameters(), lr=1e-4)\n",
    "fit(100, model2, criterion, optimizer, train_loader)"
   ]
  },
  {
   "cell_type": "markdown",
   "metadata": {},
   "source": [
    "## Fit Model2 with Regularization"
   ]
  },
  {
   "cell_type": "code",
   "execution_count": 29,
   "metadata": {},
   "outputs": [
    {
     "name": "stdout",
     "output_type": "stream",
     "text": [
      "Epoch [10/100], Loss: 1.0924\n",
      "Epoch [20/100], Loss: 1.1683\n",
      "Epoch [30/100], Loss: 1.4764\n",
      "Epoch [40/100], Loss: 1.6601\n",
      "Epoch [50/100], Loss: 1.2408\n",
      "Epoch [60/100], Loss: 1.6125\n",
      "Epoch [70/100], Loss: 0.8963\n",
      "Epoch [80/100], Loss: 1.6152\n",
      "Epoch [90/100], Loss: 0.8306\n",
      "Epoch [100/100], Loss: 1.8554\n"
     ]
    }
   ],
   "source": [
    "# Define loss function\n",
    "criterion = F.mse_loss\n",
    "# Define optimizer\n",
    "optimizer = torch.optim.SGD(model2.parameters(),weight_decay=2, lr=1e-4)\n",
    "fit(100, model2, criterion, optimizer, train_loader)"
   ]
  },
  {
   "cell_type": "code",
   "execution_count": null,
   "metadata": {},
   "outputs": [],
   "source": []
  }
 ],
 "metadata": {
  "kernelspec": {
   "display_name": "Python 3",
   "language": "python",
   "name": "python3"
  },
  "language_info": {
   "codemirror_mode": {
    "name": "ipython",
    "version": 3
   },
   "file_extension": ".py",
   "mimetype": "text/x-python",
   "name": "python",
   "nbconvert_exporter": "python",
   "pygments_lexer": "ipython3",
   "version": "3.7.4"
  }
 },
 "nbformat": 4,
 "nbformat_minor": 2
}
