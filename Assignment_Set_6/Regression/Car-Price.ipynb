{
 "cells": [
  {
   "cell_type": "markdown",
   "metadata": {},
   "source": [
    "## Import Libraries"
   ]
  },
  {
   "cell_type": "code",
   "execution_count": 2,
   "metadata": {},
   "outputs": [],
   "source": [
    "import numpy as np\n",
    "import pandas as pd\n",
    "import matplotlib.pyplot as plt\n",
    "import torch\n",
    "import torch.nn as nn\n",
    "import torch.nn.functional as F\n",
    "import torchvision\n",
    "from torch.utils.data import DataLoader, TensorDataset, random_split"
   ]
  },
  {
   "cell_type": "markdown",
   "metadata": {},
   "source": [
    "## Data Preparation"
   ]
  },
  {
   "cell_type": "code",
   "execution_count": 3,
   "metadata": {},
   "outputs": [
    {
     "data": {
      "text/plain": [
       "(193, 24)"
      ]
     },
     "execution_count": 3,
     "metadata": {},
     "output_type": "execute_result"
    }
   ],
   "source": [
    "df=pd.read_csv(\"cars-85.csv\")\n",
    "df.dropna(inplace=True)\n",
    "df.shape"
   ]
  },
  {
   "cell_type": "code",
   "execution_count": 4,
   "metadata": {},
   "outputs": [],
   "source": [
    "for i in df.columns:\n",
    "    if df[i].dtypes==\"object\":\n",
    "        df[i] = df[i].astype('category')\n",
    "        df[i] =df[i].cat.codes"
   ]
  },
  {
   "cell_type": "code",
   "execution_count": 5,
   "metadata": {},
   "outputs": [],
   "source": [
    "targets = df[[\"price\"]].to_numpy()\n",
    "inputs = df.drop([\"price\"], axis=1).to_numpy()  "
   ]
  },
  {
   "cell_type": "code",
   "execution_count": 6,
   "metadata": {},
   "outputs": [],
   "source": [
    "inputs = torch.from_numpy(inputs)\n",
    "inputs = inputs.float()\n",
    "targets = torch.from_numpy(targets)\n",
    "targets = targets.float()"
   ]
  },
  {
   "cell_type": "code",
   "execution_count": 7,
   "metadata": {},
   "outputs": [],
   "source": [
    "inputs_mean = torch.mean(inputs, axis=0)\n",
    "targets_mean = torch.mean(targets, axis=0)\n",
    "inputs = inputs / inputs_mean  \n",
    "targets = targets / targets_mean "
   ]
  },
  {
   "cell_type": "code",
   "execution_count": 8,
   "metadata": {},
   "outputs": [],
   "source": [
    "dataset = TensorDataset(inputs, targets)"
   ]
  },
  {
   "cell_type": "code",
   "execution_count": 9,
   "metadata": {},
   "outputs": [],
   "source": [
    "train_loader = DataLoader(dataset, batch_size=64, shuffle=True)"
   ]
  },
  {
   "cell_type": "markdown",
   "metadata": {},
   "source": [
    "## Define Two Models"
   ]
  },
  {
   "cell_type": "code",
   "execution_count": 10,
   "metadata": {},
   "outputs": [],
   "source": [
    "model1 = nn.Sequential(nn.Linear(23, 16),\n",
    "                      nn.Sigmoid(),\n",
    "                       \n",
    "                      nn.Linear(16, 8),\n",
    "                      nn.Softmax(),\n",
    "                       \n",
    "                       \n",
    "                      nn.Linear(8, 4),\n",
    "                      nn.ReLU(),\n",
    "\n",
    "                      \n",
    "                      nn.Linear(4, 1),\n",
    "                      nn.Sigmoid())\n",
    "\n",
    "model2 = nn.Sequential(nn.Linear(23, 1),\n",
    "                       nn.ReLU())"
   ]
  },
  {
   "cell_type": "code",
   "execution_count": 11,
   "metadata": {},
   "outputs": [],
   "source": [
    "# Utility function to train the model\n",
    "def fit(num_epochs, model, criterion, optimizer, train_loader):\n",
    "    # Repeat for given number of epochs\n",
    "    for epoch in range(num_epochs):\n",
    "        # Train with batches of data\n",
    "        for xb,yb in train_loader:\n",
    "            # 1. Generate predictions\n",
    "            pred = model(xb)\n",
    "            # 2. Calculate loss\n",
    "            loss = criterion(pred, yb)\n",
    "            # 3. Compute gradients\n",
    "            loss.backward()\n",
    "            # 4. Update parameters using gradients\n",
    "            optimizer.step()\n",
    "            # 5. Reset the gradients to zero\n",
    "            optimizer.zero_grad()\n",
    "        # Print the progress\n",
    "        if (epoch+1) % 10 == 0:\n",
    "            print('Epoch [{}/{}], Loss: {:.4f}'.format(epoch+1, num_epochs, loss.item()))"
   ]
  },
  {
   "cell_type": "markdown",
   "metadata": {},
   "source": [
    "## Fit Model1"
   ]
  },
  {
   "cell_type": "code",
   "execution_count": 62,
   "metadata": {},
   "outputs": [
    {
     "name": "stdout",
     "output_type": "stream",
     "text": [
      "Epoch [10/100], Loss: 0.0001\n",
      "Epoch [20/100], Loss: 0.0016\n",
      "Epoch [30/100], Loss: 0.0043\n",
      "Epoch [40/100], Loss: 0.1583\n",
      "Epoch [50/100], Loss: 0.0019\n",
      "Epoch [60/100], Loss: 0.0251\n",
      "Epoch [70/100], Loss: 0.0006\n",
      "Epoch [80/100], Loss: 0.1572\n",
      "Epoch [90/100], Loss: 0.0033\n",
      "Epoch [100/100], Loss: 0.6456\n"
     ]
    }
   ],
   "source": [
    "criterion = F.mse_loss\n",
    "optimizer = torch.optim.SGD(model1.parameters(), lr=1e-4)\n",
    "fit(100, model1, criterion, optimizer, train_loader)"
   ]
  },
  {
   "cell_type": "markdown",
   "metadata": {},
   "source": [
    "## Fit Model1 with regularization"
   ]
  },
  {
   "cell_type": "code",
   "execution_count": 13,
   "metadata": {},
   "outputs": [
    {
     "name": "stderr",
     "output_type": "stream",
     "text": [
      "C:\\Users\\user\\Anaconda3\\lib\\site-packages\\torch\\nn\\modules\\container.py:117: UserWarning: Implicit dimension choice for softmax has been deprecated. Change the call to include dim=X as an argument.\n",
      "  input = module(input)\n"
     ]
    },
    {
     "name": "stdout",
     "output_type": "stream",
     "text": [
      "Epoch [10/100], Loss: 0.5819\n",
      "Epoch [20/100], Loss: 0.0719\n",
      "Epoch [30/100], Loss: 0.0029\n",
      "Epoch [40/100], Loss: 0.2061\n",
      "Epoch [50/100], Loss: 0.0090\n",
      "Epoch [60/100], Loss: 5.2673\n",
      "Epoch [70/100], Loss: 0.1568\n",
      "Epoch [80/100], Loss: 0.5662\n",
      "Epoch [90/100], Loss: 0.1686\n",
      "Epoch [100/100], Loss: 0.6190\n"
     ]
    }
   ],
   "source": [
    "criterion = F.mse_loss\n",
    "optimizer = torch.optim.SGD(model1.parameters(),weight_decay=2, lr=1e-4)\n",
    "fit(100, model1, criterion, optimizer, train_loader)"
   ]
  },
  {
   "cell_type": "markdown",
   "metadata": {},
   "source": [
    "## Fit Model2"
   ]
  },
  {
   "cell_type": "code",
   "execution_count": 63,
   "metadata": {},
   "outputs": [
    {
     "name": "stdout",
     "output_type": "stream",
     "text": [
      "Epoch [10/100], Loss: 0.4550\n",
      "Epoch [20/100], Loss: 1.0354\n",
      "Epoch [30/100], Loss: 0.2205\n",
      "Epoch [40/100], Loss: 0.6022\n",
      "Epoch [50/100], Loss: 0.2616\n",
      "Epoch [60/100], Loss: 0.2735\n",
      "Epoch [70/100], Loss: 0.1764\n",
      "Epoch [80/100], Loss: 1.8308\n",
      "Epoch [90/100], Loss: 0.4550\n",
      "Epoch [100/100], Loss: 1.8719\n"
     ]
    }
   ],
   "source": [
    "criterion = F.mse_loss\n",
    "optimizer = torch.optim.SGD(model2.parameters(), lr=1e-4)\n",
    "fit(100, model2, criterion, optimizer, train_loader)"
   ]
  },
  {
   "cell_type": "markdown",
   "metadata": {},
   "source": [
    "## Fit Model2 with Regularization"
   ]
  },
  {
   "cell_type": "code",
   "execution_count": 14,
   "metadata": {},
   "outputs": [
    {
     "name": "stdout",
     "output_type": "stream",
     "text": [
      "Epoch [10/100], Loss: 5.9099\n",
      "Epoch [20/100], Loss: 0.2735\n",
      "Epoch [30/100], Loss: 0.1899\n",
      "Epoch [40/100], Loss: 0.7413\n",
      "Epoch [50/100], Loss: 0.2944\n",
      "Epoch [60/100], Loss: 0.0859\n",
      "Epoch [70/100], Loss: 0.1442\n",
      "Epoch [80/100], Loss: 0.3545\n",
      "Epoch [90/100], Loss: 3.0089\n",
      "Epoch [100/100], Loss: 1.1468\n"
     ]
    }
   ],
   "source": [
    "criterion = F.mse_loss\n",
    "optimizer = torch.optim.SGD(model2.parameters(),weight_decay=2 ,lr=1e-4)\n",
    "fit(100, model2, criterion, optimizer, train_loader)"
   ]
  }
 ],
 "metadata": {
  "kernelspec": {
   "display_name": "Python 3",
   "language": "python",
   "name": "python3"
  },
  "language_info": {
   "codemirror_mode": {
    "name": "ipython",
    "version": 3
   },
   "file_extension": ".py",
   "mimetype": "text/x-python",
   "name": "python",
   "nbconvert_exporter": "python",
   "pygments_lexer": "ipython3",
   "version": "3.7.4"
  }
 },
 "nbformat": 4,
 "nbformat_minor": 2
}
