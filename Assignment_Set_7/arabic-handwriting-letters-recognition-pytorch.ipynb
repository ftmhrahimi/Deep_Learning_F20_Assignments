{
 "cells": [
  {
   "cell_type": "code",
   "execution_count": 3,
   "metadata": {
    "_cell_guid": "b1076dfc-b9ad-4769-8c92-a6c4dae69d19",
    "_uuid": "8f2839f25d086af736a60e9eeb907d3b93b6e0e5"
   },
   "outputs": [],
   "source": [
    "import os\n",
    "import torch\n",
    "import pandas as pd\n",
    "import numpy as np\n",
    "import matplotlib.pyplot as plt\n",
    "from torch.utils.data import Dataset, DataLoader\n",
    "from torchvision import transforms, utils\n",
    "import torch.nn as nn\n",
    "from torch.autograd import Variable\n",
    "import torchvision\n",
    "from torchvision import transforms, datasets\n",
    "from torch.utils.data import DataLoader, TensorDataset\n",
    "from torch import Tensor"
   ]
  },
  {
   "cell_type": "code",
   "execution_count": 5,
   "metadata": {},
   "outputs": [],
   "source": [
    "train_image = pd.read_csv(\"a/csvTrainImages 13440x1024.csv\", header = None)\n",
    "train_label = pd.read_csv(\"a/csvTrainLabel 13440x1.csv\", header = None)\n",
    "test_image = pd.read_csv(\"a/csvTestImages 3360x1024.csv\", header = None )\n",
    "test_label = pd.read_csv(\"a/csvTestLabel 3360x1.csv\", header = None )"
   ]
  },
  {
   "cell_type": "code",
   "execution_count": 6,
   "metadata": {},
   "outputs": [
    {
     "name": "stdout",
     "output_type": "stream",
     "text": [
      "(13440, 1025)\n"
     ]
    }
   ],
   "source": [
    "# add the lables of the dataset\n",
    "train_image['label'] = train_label\n",
    "test_image['label'] = test_label\n",
    "\n",
    "print(train_image.shape)"
   ]
  },
  {
   "cell_type": "code",
   "execution_count": 7,
   "metadata": {
    "_cell_guid": "79c7e3d0-c299-4dcb-8224-4455121ee9b0",
    "_uuid": "d629ff2d2480ee46fbb7e2d37f6b5fab8052498a"
   },
   "outputs": [],
   "source": [
    "class ImageDataset(Dataset):\n",
    "    \n",
    "    def __init__(self, data, transform=None):\n",
    "        self.data = data\n",
    "        self.transform = transform\n",
    "        \n",
    "    def __len__(self):\n",
    "        return len(self.data)\n",
    "    \n",
    "    def __getitem__(self, index):\n",
    "        image = self.data.iloc[index, self.data.columns != 'label'].values.astype(np.uint8).reshape(32, 32)\n",
    "        label = self.data.iloc[index, -1] - 1\n",
    "        \n",
    "        if self.transform is not None:\n",
    "            image = self.transform(image)\n",
    "        \n",
    "        return image, label"
   ]
  },
  {
   "cell_type": "code",
   "execution_count": 8,
   "metadata": {},
   "outputs": [],
   "source": [
    "transform = transforms.Compose([transforms.ToTensor(), transforms.Normalize(mean=(0.5,), std=(0.5,))])\n",
    "train_image_dataset = ImageDataset(train_image, transform)"
   ]
  },
  {
   "cell_type": "code",
   "execution_count": 9,
   "metadata": {},
   "outputs": [
    {
     "data": {
      "text/plain": [
       "torch.Size([1, 32, 32])"
      ]
     },
     "execution_count": 9,
     "metadata": {},
     "output_type": "execute_result"
    }
   ],
   "source": [
    "image , label = train_image_dataset.__getitem__(32)\n",
    "\n",
    "image.size()"
   ]
  },
  {
   "cell_type": "code",
   "execution_count": 10,
   "metadata": {},
   "outputs": [],
   "source": [
    "loader = DataLoader(train_image_dataset, batch_size= 32, shuffle=True)"
   ]
  },
  {
   "cell_type": "code",
   "execution_count": 11,
   "metadata": {},
   "outputs": [
    {
     "name": "stdout",
     "output_type": "stream",
     "text": [
      "Epoch [1/20], Step [100/420], Loss: 2.2890, Accuracy: 15.62%\n",
      "Epoch [1/20], Step [200/420], Loss: 1.3825, Accuracy: 56.25%\n",
      "Epoch [1/20], Step [300/420], Loss: 1.0707, Accuracy: 65.62%\n",
      "Epoch [1/20], Step [400/420], Loss: 1.1351, Accuracy: 62.50%\n",
      "Epoch [2/20], Step [100/420], Loss: 0.9157, Accuracy: 75.00%\n",
      "Epoch [2/20], Step [200/420], Loss: 0.4592, Accuracy: 87.50%\n",
      "Epoch [2/20], Step [300/420], Loss: 0.4896, Accuracy: 81.25%\n",
      "Epoch [2/20], Step [400/420], Loss: 0.6778, Accuracy: 71.88%\n",
      "Epoch [3/20], Step [100/420], Loss: 0.3806, Accuracy: 84.38%\n",
      "Epoch [3/20], Step [200/420], Loss: 0.1411, Accuracy: 96.88%\n",
      "Epoch [3/20], Step [300/420], Loss: 0.6904, Accuracy: 78.12%\n",
      "Epoch [3/20], Step [400/420], Loss: 0.4169, Accuracy: 90.62%\n",
      "Epoch [4/20], Step [100/420], Loss: 0.3551, Accuracy: 84.38%\n",
      "Epoch [4/20], Step [200/420], Loss: 0.3652, Accuracy: 87.50%\n",
      "Epoch [4/20], Step [300/420], Loss: 0.2175, Accuracy: 84.38%\n",
      "Epoch [4/20], Step [400/420], Loss: 0.2204, Accuracy: 87.50%\n",
      "Epoch [5/20], Step [100/420], Loss: 0.4213, Accuracy: 81.25%\n",
      "Epoch [5/20], Step [200/420], Loss: 0.1887, Accuracy: 93.75%\n",
      "Epoch [5/20], Step [300/420], Loss: 0.1305, Accuracy: 96.88%\n",
      "Epoch [5/20], Step [400/420], Loss: 0.1720, Accuracy: 93.75%\n",
      "Epoch [6/20], Step [100/420], Loss: 0.2990, Accuracy: 84.38%\n",
      "Epoch [6/20], Step [200/420], Loss: 0.3527, Accuracy: 87.50%\n",
      "Epoch [6/20], Step [300/420], Loss: 0.3139, Accuracy: 93.75%\n",
      "Epoch [6/20], Step [400/420], Loss: 0.1116, Accuracy: 93.75%\n",
      "Epoch [7/20], Step [100/420], Loss: 0.2713, Accuracy: 93.75%\n",
      "Epoch [7/20], Step [200/420], Loss: 0.2222, Accuracy: 90.62%\n",
      "Epoch [7/20], Step [300/420], Loss: 0.1950, Accuracy: 87.50%\n",
      "Epoch [7/20], Step [400/420], Loss: 0.1374, Accuracy: 96.88%\n",
      "Epoch [8/20], Step [100/420], Loss: 0.1012, Accuracy: 96.88%\n",
      "Epoch [8/20], Step [200/420], Loss: 0.0579, Accuracy: 100.00%\n",
      "Epoch [8/20], Step [300/420], Loss: 0.2413, Accuracy: 90.62%\n",
      "Epoch [8/20], Step [400/420], Loss: 0.2820, Accuracy: 90.62%\n",
      "Epoch [9/20], Step [100/420], Loss: 0.1149, Accuracy: 93.75%\n",
      "Epoch [9/20], Step [200/420], Loss: 0.1462, Accuracy: 96.88%\n",
      "Epoch [9/20], Step [300/420], Loss: 0.2243, Accuracy: 96.88%\n",
      "Epoch [9/20], Step [400/420], Loss: 0.2901, Accuracy: 90.62%\n",
      "Epoch [10/20], Step [100/420], Loss: 0.2721, Accuracy: 81.25%\n",
      "Epoch [10/20], Step [200/420], Loss: 0.0620, Accuracy: 100.00%\n",
      "Epoch [10/20], Step [300/420], Loss: 0.5492, Accuracy: 78.12%\n",
      "Epoch [10/20], Step [400/420], Loss: 0.2213, Accuracy: 93.75%\n",
      "Epoch [11/20], Step [100/420], Loss: 0.5346, Accuracy: 78.12%\n",
      "Epoch [11/20], Step [200/420], Loss: 0.2623, Accuracy: 90.62%\n",
      "Epoch [11/20], Step [300/420], Loss: 0.1153, Accuracy: 96.88%\n",
      "Epoch [11/20], Step [400/420], Loss: 0.5042, Accuracy: 81.25%\n",
      "Epoch [12/20], Step [100/420], Loss: 0.1526, Accuracy: 93.75%\n",
      "Epoch [12/20], Step [200/420], Loss: 0.0642, Accuracy: 96.88%\n",
      "Epoch [12/20], Step [300/420], Loss: 0.1646, Accuracy: 93.75%\n",
      "Epoch [12/20], Step [400/420], Loss: 0.1330, Accuracy: 96.88%\n",
      "Epoch [13/20], Step [100/420], Loss: 0.2315, Accuracy: 87.50%\n",
      "Epoch [13/20], Step [200/420], Loss: 0.0176, Accuracy: 100.00%\n",
      "Epoch [13/20], Step [300/420], Loss: 0.1095, Accuracy: 93.75%\n",
      "Epoch [13/20], Step [400/420], Loss: 0.2112, Accuracy: 96.88%\n",
      "Epoch [14/20], Step [100/420], Loss: 0.2740, Accuracy: 90.62%\n",
      "Epoch [14/20], Step [200/420], Loss: 0.5774, Accuracy: 93.75%\n",
      "Epoch [14/20], Step [300/420], Loss: 0.3380, Accuracy: 90.62%\n",
      "Epoch [14/20], Step [400/420], Loss: 0.0695, Accuracy: 100.00%\n",
      "Epoch [15/20], Step [100/420], Loss: 0.0765, Accuracy: 96.88%\n",
      "Epoch [15/20], Step [200/420], Loss: 0.1449, Accuracy: 93.75%\n",
      "Epoch [15/20], Step [300/420], Loss: 0.3304, Accuracy: 90.62%\n",
      "Epoch [15/20], Step [400/420], Loss: 0.2702, Accuracy: 96.88%\n",
      "Epoch [16/20], Step [100/420], Loss: 0.0278, Accuracy: 100.00%\n",
      "Epoch [16/20], Step [200/420], Loss: 0.4579, Accuracy: 93.75%\n",
      "Epoch [16/20], Step [300/420], Loss: 0.1033, Accuracy: 93.75%\n",
      "Epoch [16/20], Step [400/420], Loss: 0.1416, Accuracy: 93.75%\n",
      "Epoch [17/20], Step [100/420], Loss: 0.0494, Accuracy: 96.88%\n",
      "Epoch [17/20], Step [200/420], Loss: 0.1514, Accuracy: 93.75%\n",
      "Epoch [17/20], Step [300/420], Loss: 0.0823, Accuracy: 96.88%\n",
      "Epoch [17/20], Step [400/420], Loss: 0.1580, Accuracy: 93.75%\n",
      "Epoch [18/20], Step [100/420], Loss: 0.0638, Accuracy: 96.88%\n",
      "Epoch [18/20], Step [200/420], Loss: 0.0646, Accuracy: 96.88%\n",
      "Epoch [18/20], Step [300/420], Loss: 0.1246, Accuracy: 96.88%\n",
      "Epoch [18/20], Step [400/420], Loss: 0.1014, Accuracy: 93.75%\n",
      "Epoch [19/20], Step [100/420], Loss: 0.1228, Accuracy: 96.88%\n",
      "Epoch [19/20], Step [200/420], Loss: 0.1502, Accuracy: 93.75%\n",
      "Epoch [19/20], Step [300/420], Loss: 0.3036, Accuracy: 93.75%\n",
      "Epoch [19/20], Step [400/420], Loss: 0.2047, Accuracy: 90.62%\n",
      "Epoch [20/20], Step [100/420], Loss: 0.0543, Accuracy: 96.88%\n",
      "Epoch [20/20], Step [200/420], Loss: 0.0231, Accuracy: 100.00%\n",
      "Epoch [20/20], Step [300/420], Loss: 0.0915, Accuracy: 96.88%\n",
      "Epoch [20/20], Step [400/420], Loss: 0.3495, Accuracy: 87.50%\n"
     ]
    }
   ],
   "source": [
    "class ConvolutionNNetwork(nn.Module):\n",
    "    def __init__(self):\n",
    "        super(ConvolutionNNetwork, self).__init__()\n",
    "        self.layer1 = nn.Sequential(\n",
    "            nn.Conv2d(1, 32, kernel_size=5, stride=1, padding=2),\n",
    "            nn.ReLU(),\n",
    "            nn.MaxPool2d(kernel_size=2, stride=2))\n",
    "        self.layer2 = nn.Sequential(\n",
    "            nn.Conv2d(32, 64, kernel_size=5, stride=1, padding=2),\n",
    "            nn.ReLU(),\n",
    "            nn.MaxPool2d(kernel_size=2, stride=2))\n",
    "        self.layer3 = nn.Sequential(\n",
    "            nn.Conv2d(64, 64, kernel_size=5, stride=1, padding=2),\n",
    "            nn.ReLU(),\n",
    "            nn.MaxPool2d(kernel_size=2, stride=2))\n",
    "        self.drop_out = nn.Dropout()\n",
    "        self.fc1 = nn.Linear(1024, 1000)\n",
    "        self.fc2 = nn.Linear(1000, 28)\n",
    "        \n",
    "    def forward(self, x):\n",
    "        out = self.layer1(x)\n",
    "        out = self.layer2(out)\n",
    "        out = self.layer3(out)\n",
    "        out = out.reshape(out.size(0), -1)\n",
    "        out = self.drop_out(out)\n",
    "        out = self.fc1(out)\n",
    "        out = self.fc2(out)\n",
    "        return out\n",
    "    \n",
    "# Train the model\n",
    "num_epochs = 20\n",
    "learning_rate = 0.001\n",
    "total_step = len(loader)\n",
    "loss_list = []\n",
    "acc_list = []\n",
    "model = ConvolutionNNetwork()\n",
    "optimizer = torch.optim.Adam(model.parameters(), lr=learning_rate);\n",
    "criterion = nn.CrossEntropyLoss();\n",
    "\n",
    "for epoch in range(num_epochs):\n",
    "    for i, (images, labels) in enumerate(loader):\n",
    "        outputs = model(images)\n",
    "        loss = criterion(outputs, labels)\n",
    "        loss_list.append(loss.item())\n",
    "\n",
    "        # Backprop and perform Adam optimisation\n",
    "        optimizer.zero_grad()\n",
    "        loss.backward()\n",
    "        optimizer.step()\n",
    "\n",
    "        # Track the accuracy\n",
    "        total = labels.size(0)\n",
    "        _, predicted = torch.max(outputs.data, 1)\n",
    "        correct = (predicted == labels).sum().item()\n",
    "        acc_list.append(correct / total)\n",
    "\n",
    "        if (i + 1) % 100 == 0:\n",
    "            print('Epoch [{}/{}], Step [{}/{}], Loss: {:.4f}, Accuracy: {:.2f}%'\n",
    "                  .format(epoch + 1, num_epochs, i + 1, total_step, loss.item(),\n",
    "                          (correct / total) * 100))"
   ]
  },
  {
   "cell_type": "code",
   "execution_count": 12,
   "metadata": {},
   "outputs": [
    {
     "name": "stdout",
     "output_type": "stream",
     "text": [
      "Test Accuracy of the model on the 3360 test images: 94.82142857142857 %\n"
     ]
    }
   ],
   "source": [
    "test_image_dataset = ImageDataset(test_image, transform)\n",
    "test_loader = DataLoader(test_image_dataset, batch_size= 1, shuffle=False)\n",
    "# Test the model\n",
    "model.eval()\n",
    "with torch.no_grad():\n",
    "    correct = 0\n",
    "    total = 0\n",
    "    for (images, labels) in test_loader:\n",
    "        outputs = model(images)\n",
    "        _, predicted = torch.max(outputs.data, 1)\n",
    "        total += labels.size(0)\n",
    "        correct += (predicted == labels).sum().item()\n",
    "    print('Test Accuracy of the model on the 3360 test images: {} %'.format((correct / total) * 100))"
   ]
  }
 ],
 "metadata": {
  "kernelspec": {
   "display_name": "Python 3",
   "language": "python",
   "name": "python3"
  },
  "language_info": {
   "codemirror_mode": {
    "name": "ipython",
    "version": 3
   },
   "file_extension": ".py",
   "mimetype": "text/x-python",
   "name": "python",
   "nbconvert_exporter": "python",
   "pygments_lexer": "ipython3",
   "version": "3.7.4"
  }
 },
 "nbformat": 4,
 "nbformat_minor": 4
}
