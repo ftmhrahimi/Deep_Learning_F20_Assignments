{
 "cells": [
  {
   "cell_type": "markdown",
   "metadata": {},
   "source": [
    "## Import Libraries"
   ]
  },
  {
   "cell_type": "code",
   "execution_count": 3,
   "metadata": {},
   "outputs": [],
   "source": [
    "import numpy as np\n",
    "import pandas as pd\n",
    "import matplotlib.pyplot as plt\n",
    "import torch\n",
    "import torch.nn as nn\n",
    "import torch.nn.functional as F\n",
    "import torchvision\n",
    "from torch.utils.data import DataLoader, TensorDataset, random_split"
   ]
  },
  {
   "cell_type": "markdown",
   "metadata": {},
   "source": [
    "## Data Preparation"
   ]
  },
  {
   "cell_type": "code",
   "execution_count": 4,
   "metadata": {},
   "outputs": [
    {
     "data": {
      "text/plain": [
       "(193, 24)"
      ]
     },
     "execution_count": 4,
     "metadata": {},
     "output_type": "execute_result"
    }
   ],
   "source": [
    "df=pd.read_csv(\"cars-85.csv\")\n",
    "df.dropna(inplace=True)\n",
    "df.shape"
   ]
  },
  {
   "cell_type": "code",
   "execution_count": 5,
   "metadata": {},
   "outputs": [],
   "source": [
    "for i in df.columns:\n",
    "    if df[i].dtypes==\"object\":\n",
    "        df[i] = df[i].astype('category')\n",
    "        df[i] =df[i].cat.codes"
   ]
  },
  {
   "cell_type": "code",
   "execution_count": 6,
   "metadata": {},
   "outputs": [],
   "source": [
    "targets = df[[\"price\"]].to_numpy()\n",
    "inputs = df.drop([\"price\"], axis=1).to_numpy()  "
   ]
  },
  {
   "cell_type": "code",
   "execution_count": 7,
   "metadata": {},
   "outputs": [],
   "source": [
    "inputs = torch.from_numpy(inputs)\n",
    "inputs = inputs.float()\n",
    "targets = torch.from_numpy(targets)\n",
    "targets = targets.float()"
   ]
  },
  {
   "cell_type": "code",
   "execution_count": 8,
   "metadata": {},
   "outputs": [],
   "source": [
    "inputs_mean = torch.mean(inputs, axis=0)\n",
    "targets_mean = torch.mean(targets, axis=0)\n",
    "inputs = inputs / inputs_mean  \n",
    "targets = targets / targets_mean "
   ]
  },
  {
   "cell_type": "code",
   "execution_count": 9,
   "metadata": {},
   "outputs": [],
   "source": [
    "dataset = TensorDataset(inputs, targets)"
   ]
  },
  {
   "cell_type": "code",
   "execution_count": 10,
   "metadata": {},
   "outputs": [],
   "source": [
    "train_loader = DataLoader(dataset, batch_size=64, shuffle=True)"
   ]
  },
  {
   "cell_type": "markdown",
   "metadata": {},
   "source": [
    "## Define Two Models"
   ]
  },
  {
   "cell_type": "code",
   "execution_count": 11,
   "metadata": {},
   "outputs": [],
   "source": [
    "model = nn.Sequential(nn.Linear(23, 16),\n",
    "                      nn.Sigmoid(),\n",
    "                       \n",
    "                      nn.Linear(16, 8),\n",
    "                      nn.Softmax(),\n",
    "                       \n",
    "                       \n",
    "                      nn.Linear(8, 4),\n",
    "                      nn.ReLU(),\n",
    "\n",
    "                      \n",
    "                      nn.Linear(4, 1),\n",
    "                     nn.ReLU())\n",
    "model_with_optim = nn.Sequential(nn.Linear(23, 16),\n",
    "                      nn.Dropout(p=0.2),\n",
    "                       \n",
    "                      nn.Linear(16, 8),\n",
    "                      nn.Softmax(),\n",
    "                       \n",
    "                       \n",
    "                      nn.Linear(8, 4),\n",
    "                      nn.ReLU(),\n",
    "\n",
    "                      \n",
    "                      nn.Linear(4, 1),\n",
    "                     nn.ReLU())\n",
    "\n"
   ]
  },
  {
   "cell_type": "code",
   "execution_count": 12,
   "metadata": {},
   "outputs": [],
   "source": [
    "# Utility function to train the model\n",
    "def fit(num_epochs, model, criterion, optimizer, train_loader):\n",
    "    # Repeat for given number of epochs\n",
    "    for epoch in range(num_epochs):\n",
    "        # Train with batches of data\n",
    "        for xb,yb in train_loader:\n",
    "            # 1. Generate predictions\n",
    "            pred = model(xb)\n",
    "            # 2. Calculate loss\n",
    "            loss = criterion(pred, yb)\n",
    "            # 3. Compute gradients\n",
    "            loss.backward()\n",
    "            # 4. Update parameters using gradients\n",
    "            optimizer.step()\n",
    "            # 5. Reset the gradients to zero\n",
    "            optimizer.zero_grad()\n",
    "        # Print the progress\n",
    "        if (epoch+1) % 10 == 0:\n",
    "            print('Epoch [{}/{}], Loss: {:.4f}'.format(epoch+1, num_epochs, loss.item()))"
   ]
  },
  {
   "cell_type": "markdown",
   "metadata": {},
   "source": [
    "## Fit Model"
   ]
  },
  {
   "cell_type": "code",
   "execution_count": 13,
   "metadata": {},
   "outputs": [
    {
     "name": "stderr",
     "output_type": "stream",
     "text": [
      "C:\\Users\\user\\Anaconda3\\lib\\site-packages\\torch\\nn\\modules\\container.py:117: UserWarning: Implicit dimension choice for softmax has been deprecated. Change the call to include dim=X as an argument.\n",
      "  input = module(input)\n"
     ]
    },
    {
     "name": "stdout",
     "output_type": "stream",
     "text": [
      "Epoch [10/200], Loss: 0.3225\n",
      "Epoch [20/200], Loss: 0.7181\n",
      "Epoch [30/200], Loss: 4.3910\n",
      "Epoch [40/200], Loss: 0.3971\n",
      "Epoch [50/200], Loss: 0.3488\n",
      "Epoch [60/200], Loss: 0.7045\n",
      "Epoch [70/200], Loss: 0.2810\n",
      "Epoch [80/200], Loss: 0.2651\n",
      "Epoch [90/200], Loss: 0.6312\n",
      "Epoch [100/200], Loss: 0.3029\n",
      "Epoch [110/200], Loss: 1.2351\n",
      "Epoch [120/200], Loss: 0.8397\n",
      "Epoch [130/200], Loss: 0.7980\n",
      "Epoch [140/200], Loss: 2.1441\n",
      "Epoch [150/200], Loss: 0.1124\n",
      "Epoch [160/200], Loss: 1.4914\n",
      "Epoch [170/200], Loss: 0.2081\n",
      "Epoch [180/200], Loss: 0.3680\n",
      "Epoch [190/200], Loss: 0.1573\n",
      "Epoch [200/200], Loss: 1.6273\n"
     ]
    }
   ],
   "source": [
    "criterion = F.mse_loss\n",
    "optimizer = torch.optim.SGD(model.parameters(), lr=1e-4)\n",
    "fit(200, model, criterion, optimizer, train_loader)"
   ]
  },
  {
   "cell_type": "markdown",
   "metadata": {},
   "source": [
    "## Fit Model with regularization"
   ]
  },
  {
   "cell_type": "code",
   "execution_count": 14,
   "metadata": {},
   "outputs": [
    {
     "name": "stdout",
     "output_type": "stream",
     "text": [
      "Epoch [10/200], Loss: 0.4449\n",
      "Epoch [20/200], Loss: 6.2941\n",
      "Epoch [30/200], Loss: 0.1693\n",
      "Epoch [40/200], Loss: 0.6991\n",
      "Epoch [50/200], Loss: 0.0545\n",
      "Epoch [60/200], Loss: 0.4971\n",
      "Epoch [70/200], Loss: 0.0441\n",
      "Epoch [80/200], Loss: 5.0617\n",
      "Epoch [90/200], Loss: 1.1865\n",
      "Epoch [100/200], Loss: 1.0677\n",
      "Epoch [110/200], Loss: 1.0560\n",
      "Epoch [120/200], Loss: 0.2489\n",
      "Epoch [130/200], Loss: 0.3382\n",
      "Epoch [140/200], Loss: 0.0344\n",
      "Epoch [150/200], Loss: 0.2710\n",
      "Epoch [160/200], Loss: 1.4175\n",
      "Epoch [170/200], Loss: 0.8608\n",
      "Epoch [180/200], Loss: 0.0793\n",
      "Epoch [190/200], Loss: 0.1356\n",
      "Epoch [200/200], Loss: 0.2496\n"
     ]
    }
   ],
   "source": [
    "criterion = F.mse_loss\n",
    "optimizer = torch.optim.SGD(model.parameters(),weight_decay=2, lr=1e-4)\n",
    "fit(200, model, criterion, optimizer, train_loader)"
   ]
  },
  {
   "cell_type": "markdown",
   "metadata": {},
   "source": [
    "## Fit Model with regularization and dropout"
   ]
  },
  {
   "cell_type": "code",
   "execution_count": 16,
   "metadata": {},
   "outputs": [
    {
     "name": "stdout",
     "output_type": "stream",
     "text": [
      "Epoch [10/200], Loss: 0.6793\n",
      "Epoch [20/200], Loss: 0.4781\n",
      "Epoch [30/200], Loss: 0.2111\n",
      "Epoch [40/200], Loss: 1.1140\n",
      "Epoch [50/200], Loss: 1.5051\n",
      "Epoch [60/200], Loss: 0.3059\n",
      "Epoch [70/200], Loss: 0.1523\n",
      "Epoch [80/200], Loss: 0.0750\n",
      "Epoch [90/200], Loss: 0.6349\n",
      "Epoch [100/200], Loss: 0.2739\n",
      "Epoch [110/200], Loss: 1.0196\n",
      "Epoch [120/200], Loss: 0.7099\n",
      "Epoch [130/200], Loss: 0.0485\n",
      "Epoch [140/200], Loss: 1.0911\n",
      "Epoch [150/200], Loss: 0.8562\n",
      "Epoch [160/200], Loss: 5.8013\n",
      "Epoch [170/200], Loss: 0.9585\n",
      "Epoch [180/200], Loss: 0.2295\n",
      "Epoch [190/200], Loss: 0.3142\n",
      "Epoch [200/200], Loss: 0.4066\n"
     ]
    }
   ],
   "source": [
    "criterion = F.mse_loss\n",
    "optimizer = torch.optim.SGD(model_with_optim.parameters(), lr=1e-4)\n",
    "fit(200, model_with_optim, criterion, optimizer, train_loader)"
   ]
  }
 ],
 "metadata": {
  "kernelspec": {
   "display_name": "Python 3",
   "language": "python",
   "name": "python3"
  },
  "language_info": {
   "codemirror_mode": {
    "name": "ipython",
    "version": 3
   },
   "file_extension": ".py",
   "mimetype": "text/x-python",
   "name": "python",
   "nbconvert_exporter": "python",
   "pygments_lexer": "ipython3",
   "version": "3.7.4"
  }
 },
 "nbformat": 4,
 "nbformat_minor": 2
}
