{
 "cells": [
  {
   "cell_type": "markdown",
   "metadata": {},
   "source": [
    "## Import Libraries"
   ]
  },
  {
   "cell_type": "code",
   "execution_count": 3,
   "metadata": {},
   "outputs": [],
   "source": [
    "import numpy as np\n",
    "import pandas as pd\n",
    "import matplotlib.pyplot as plt\n",
    "import torch\n",
    "import torch.nn as nn\n",
    "import torch.nn.functional as F\n",
    "import torchvision\n",
    "from torch.utils.data import DataLoader, TensorDataset, random_split"
   ]
  },
  {
   "cell_type": "markdown",
   "metadata": {},
   "source": [
    "## Data Preparation"
   ]
  },
  {
   "cell_type": "code",
   "execution_count": 2,
   "metadata": {},
   "outputs": [
    {
     "data": {
      "text/plain": [
       "Index(['longitude', 'latitude', 'housing_median_age', 'total_rooms',\n",
       "       'total_bedrooms', 'population', 'households', 'median_income',\n",
       "       'median_house_value', 'ocean_proximity'],\n",
       "      dtype='object')"
      ]
     },
     "execution_count": 2,
     "metadata": {},
     "output_type": "execute_result"
    }
   ],
   "source": [
    "df=pd.read_csv(\"housing.csv\")\n",
    "df.columns"
   ]
  },
  {
   "cell_type": "code",
   "execution_count": 4,
   "metadata": {},
   "outputs": [],
   "source": [
    "df.replace([np.inf, -np.inf], np.nan)\n",
    "df.dropna(inplace=True) "
   ]
  },
  {
   "cell_type": "code",
   "execution_count": 5,
   "metadata": {},
   "outputs": [],
   "source": [
    "targets = df[[\"median_house_value\"]].to_numpy()\n",
    "inputs = df.drop([\"median_house_value\", 'ocean_proximity'], axis=1).to_numpy()  "
   ]
  },
  {
   "cell_type": "code",
   "execution_count": 6,
   "metadata": {},
   "outputs": [],
   "source": [
    "inputs = torch.from_numpy(inputs)\n",
    "inputs = inputs.float()\n",
    "targets = torch.from_numpy(targets)\n",
    "targets = targets.float()"
   ]
  },
  {
   "cell_type": "code",
   "execution_count": 7,
   "metadata": {},
   "outputs": [],
   "source": [
    "inputs_mean = torch.mean(inputs, axis=0)\n",
    "targets_mean = torch.mean(targets, axis=0)\n",
    "inputs = inputs / inputs_mean  \n",
    "targets = targets / targets_mean "
   ]
  },
  {
   "cell_type": "code",
   "execution_count": 8,
   "metadata": {},
   "outputs": [],
   "source": [
    "dataset = TensorDataset(inputs, targets)"
   ]
  },
  {
   "cell_type": "code",
   "execution_count": 9,
   "metadata": {},
   "outputs": [],
   "source": [
    "train_loader = DataLoader(dataset, batch_size=64, shuffle=True)"
   ]
  },
  {
   "cell_type": "markdown",
   "metadata": {},
   "source": [
    "## Define Two Models"
   ]
  },
  {
   "cell_type": "code",
   "execution_count": 11,
   "metadata": {},
   "outputs": [],
   "source": [
    "model = nn.Sequential(nn.Linear(8, 4),\n",
    "                      nn.ReLU(),\n",
    "\n",
    "                      nn.Linear(4, 2),\n",
    "                      nn.Softmax(),\n",
    "\n",
    "                      \n",
    "                      nn.Linear(2, 1),\n",
    "                      nn.ReLU())\n",
    "model_with_optim = nn.Sequential(nn.Linear(8, 4),\n",
    "                      nn.Dropout(p=0.2),\n",
    "\n",
    "                      nn.Linear(4, 2),\n",
    "                      nn.Softmax(),\n",
    "\n",
    "                      \n",
    "                      nn.Linear(2, 1),\n",
    "                      nn.ReLU())\n",
    "\n"
   ]
  },
  {
   "cell_type": "code",
   "execution_count": 12,
   "metadata": {},
   "outputs": [],
   "source": [
    "# Utility function to train the model\n",
    "def fit(num_epochs, model, criterion, optimizer, train_loader):\n",
    "    # Repeat for given number of epochs\n",
    "    for epoch in range(num_epochs):\n",
    "        # Train with batches of data\n",
    "        for xb,yb in train_loader:\n",
    "            # 1. Generate predictions\n",
    "            pred = model(xb)\n",
    "            # 2. Calculate loss\n",
    "            loss = criterion(pred, yb)\n",
    "            # 3. Compute gradients\n",
    "            loss.backward()\n",
    "            # 4. Update parameters using gradients\n",
    "            optimizer.step()\n",
    "            # 5. Reset the gradients to zero\n",
    "            optimizer.zero_grad()\n",
    "        # Print the progress\n",
    "        if (epoch+1) % 10 == 0:\n",
    "            print('Epoch [{}/{}], Loss: {:.4f}'.format(epoch+1, num_epochs, loss.item()))"
   ]
  },
  {
   "cell_type": "markdown",
   "metadata": {},
   "source": [
    "## Fit Model"
   ]
  },
  {
   "cell_type": "code",
   "execution_count": 13,
   "metadata": {},
   "outputs": [
    {
     "name": "stderr",
     "output_type": "stream",
     "text": [
      "C:\\Users\\user\\Anaconda3\\lib\\site-packages\\torch\\nn\\modules\\container.py:117: UserWarning: Implicit dimension choice for softmax has been deprecated. Change the call to include dim=X as an argument.\n",
      "  input = module(input)\n"
     ]
    },
    {
     "name": "stdout",
     "output_type": "stream",
     "text": [
      "Epoch [10/200], Loss: 0.2764\n",
      "Epoch [20/200], Loss: 0.4241\n",
      "Epoch [30/200], Loss: 0.3988\n",
      "Epoch [40/200], Loss: 0.4176\n",
      "Epoch [50/200], Loss: 0.4812\n",
      "Epoch [60/200], Loss: 0.4477\n",
      "Epoch [70/200], Loss: 0.4457\n",
      "Epoch [80/200], Loss: 0.2092\n",
      "Epoch [90/200], Loss: 0.2650\n",
      "Epoch [100/200], Loss: 0.4924\n",
      "Epoch [110/200], Loss: 0.1497\n",
      "Epoch [120/200], Loss: 0.3648\n",
      "Epoch [130/200], Loss: 0.2818\n",
      "Epoch [140/200], Loss: 0.2573\n",
      "Epoch [150/200], Loss: 0.4728\n",
      "Epoch [160/200], Loss: 0.2407\n",
      "Epoch [170/200], Loss: 0.3208\n",
      "Epoch [180/200], Loss: 0.1944\n",
      "Epoch [190/200], Loss: 0.2216\n",
      "Epoch [200/200], Loss: 0.2620\n"
     ]
    }
   ],
   "source": [
    "# Define loss function\n",
    "criterion = F.mse_loss\n",
    "# Define optimizer\n",
    "optimizer = torch.optim.SGD(model.parameters(), lr=1e-4)\n",
    "fit(200, model, criterion, optimizer, train_loader)"
   ]
  },
  {
   "cell_type": "markdown",
   "metadata": {},
   "source": [
    "## Fit Model with Regularization"
   ]
  },
  {
   "cell_type": "code",
   "execution_count": 15,
   "metadata": {},
   "outputs": [
    {
     "name": "stdout",
     "output_type": "stream",
     "text": [
      "Epoch [10/200], Loss: 0.5039\n",
      "Epoch [20/200], Loss: 0.5231\n",
      "Epoch [30/200], Loss: 0.6730\n",
      "Epoch [40/200], Loss: 0.6671\n",
      "Epoch [50/200], Loss: 0.3414\n",
      "Epoch [60/200], Loss: 0.6801\n",
      "Epoch [70/200], Loss: 0.3169\n",
      "Epoch [80/200], Loss: 0.4528\n",
      "Epoch [90/200], Loss: 0.8990\n",
      "Epoch [100/200], Loss: 0.3164\n",
      "Epoch [110/200], Loss: 0.3380\n",
      "Epoch [120/200], Loss: 0.5582\n",
      "Epoch [130/200], Loss: 0.2836\n",
      "Epoch [140/200], Loss: 0.5343\n",
      "Epoch [150/200], Loss: 0.6177\n",
      "Epoch [160/200], Loss: 0.8089\n",
      "Epoch [170/200], Loss: 0.6143\n",
      "Epoch [180/200], Loss: 0.5407\n",
      "Epoch [190/200], Loss: 1.3284\n",
      "Epoch [200/200], Loss: 0.4217\n"
     ]
    }
   ],
   "source": [
    "# Define loss function\n",
    "criterion = F.mse_loss\n",
    "# Define optimizer\n",
    "optimizer = torch.optim.SGD(model.parameters(),weight_decay=2, lr=1e-4)\n",
    "fit(200, model, criterion, optimizer, train_loader)"
   ]
  },
  {
   "cell_type": "markdown",
   "metadata": {},
   "source": [
    "## Fit Model with Regularization and dropout"
   ]
  },
  {
   "cell_type": "code",
   "execution_count": 16,
   "metadata": {},
   "outputs": [
    {
     "name": "stdout",
     "output_type": "stream",
     "text": [
      "Epoch [10/200], Loss: 1.0079\n",
      "Epoch [20/200], Loss: 1.0350\n",
      "Epoch [30/200], Loss: 1.6902\n",
      "Epoch [40/200], Loss: 1.0565\n",
      "Epoch [50/200], Loss: 1.5580\n",
      "Epoch [60/200], Loss: 1.3978\n",
      "Epoch [70/200], Loss: 0.8960\n",
      "Epoch [80/200], Loss: 0.4581\n",
      "Epoch [90/200], Loss: 1.2524\n",
      "Epoch [100/200], Loss: 1.2755\n",
      "Epoch [110/200], Loss: 0.9560\n",
      "Epoch [120/200], Loss: 1.7975\n",
      "Epoch [130/200], Loss: 1.4891\n",
      "Epoch [140/200], Loss: 1.2462\n",
      "Epoch [150/200], Loss: 1.9253\n",
      "Epoch [160/200], Loss: 1.5834\n",
      "Epoch [170/200], Loss: 0.8336\n",
      "Epoch [180/200], Loss: 1.1612\n",
      "Epoch [190/200], Loss: 0.9644\n",
      "Epoch [200/200], Loss: 1.4126\n"
     ]
    }
   ],
   "source": [
    "# Define loss function\n",
    "criterion = F.mse_loss\n",
    "# Define optimizer\n",
    "optimizer = torch.optim.SGD(model_with_optim.parameters(), lr=1e-4)\n",
    "fit(200, model_with_optim, criterion, optimizer, train_loader)"
   ]
  }
 ],
 "metadata": {
  "kernelspec": {
   "display_name": "Python 3",
   "language": "python",
   "name": "python3"
  },
  "language_info": {
   "codemirror_mode": {
    "name": "ipython",
    "version": 3
   },
   "file_extension": ".py",
   "mimetype": "text/x-python",
   "name": "python",
   "nbconvert_exporter": "python",
   "pygments_lexer": "ipython3",
   "version": "3.7.4"
  }
 },
 "nbformat": 4,
 "nbformat_minor": 2
}
