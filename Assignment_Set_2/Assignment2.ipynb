{
 "cells": [
  {
   "cell_type": "code",
   "execution_count": 12,
   "metadata": {},
   "outputs": [],
   "source": [
    "import torch"
   ]
  },
  {
   "cell_type": "markdown",
   "metadata": {},
   "source": [
    "Create a random tensor: 3 * 3 tensor as float"
   ]
  },
  {
   "cell_type": "code",
   "execution_count": 16,
   "metadata": {},
   "outputs": [
    {
     "data": {
      "text/plain": [
       "tensor([[0.4342, 0.2046, 0.8137],\n",
       "        [0.5839, 0.2912, 0.7296],\n",
       "        [0.7108, 0.8108, 0.5510]])"
      ]
     },
     "execution_count": 16,
     "metadata": {},
     "output_type": "execute_result"
    }
   ],
   "source": [
    "rand_tensor_float = torch.rand((3, 3),dtype=torch.float32)\n",
    "rand_tensor_float"
   ]
  },
  {
   "cell_type": "markdown",
   "metadata": {},
   "source": [
    "Create a random tensor: 4 * 4 tensor as double"
   ]
  },
  {
   "cell_type": "code",
   "execution_count": 17,
   "metadata": {},
   "outputs": [
    {
     "data": {
      "text/plain": [
       "tensor([[0.5645, 0.9161, 0.8644, 0.1569],\n",
       "        [0.6758, 0.7489, 0.6715, 0.7842],\n",
       "        [0.8308, 0.6426, 0.3213, 0.5986],\n",
       "        [0.3498, 0.9398, 0.2786, 0.5466]], dtype=torch.float64)"
      ]
     },
     "execution_count": 17,
     "metadata": {},
     "output_type": "execute_result"
    }
   ],
   "source": [
    "rand_tensor_double = torch.rand((4, 4),dtype=torch.double)\n",
    "rand_tensor_double"
   ]
  },
  {
   "cell_type": "markdown",
   "metadata": {},
   "source": [
    "Create a random tensor:  5 * 3 * 4 tensor as short type"
   ]
  },
  {
   "cell_type": "code",
   "execution_count": 18,
   "metadata": {},
   "outputs": [
    {
     "data": {
      "text/plain": [
       "tensor([[[39, 63, 90, 30],\n",
       "         [57, 97, 41, 62],\n",
       "         [96, 17, 40, 26]],\n",
       "\n",
       "        [[70, 80, 72, 48],\n",
       "         [14, 63, 11, 49],\n",
       "         [47, 81, 21, 76]],\n",
       "\n",
       "        [[ 0, 82, 96, 14],\n",
       "         [28, 74, 11, 79],\n",
       "         [44, 95, 66, 98]],\n",
       "\n",
       "        [[79, 30, 49, 36],\n",
       "         [61, 75, 36, 93],\n",
       "         [39, 56, 40, 75]],\n",
       "\n",
       "        [[50, 92, 43, 61],\n",
       "         [20, 73, 28, 88],\n",
       "         [49, 49, 67,  8]]], dtype=torch.int16)"
      ]
     },
     "execution_count": 18,
     "metadata": {},
     "output_type": "execute_result"
    }
   ],
   "source": [
    "rand_tensor_short = torch.randint(100,(5, 3,4),dtype=torch.short)\n",
    "rand_tensor_short"
   ]
  },
  {
   "cell_type": "markdown",
   "metadata": {},
   "source": [
    "Change elements in the GPU"
   ]
  },
  {
   "cell_type": "code",
   "execution_count": 79,
   "metadata": {},
   "outputs": [],
   "source": [
    "rand_tensor_float.cuda()\n",
    "rand_tensor_double.cuda()\n",
    "rand_tensor_short.cuda()"
   ]
  },
  {
   "cell_type": "markdown",
   "metadata": {},
   "source": [
    "Display the order of elements and its transpose in the memory then use storage offset and contiguous:"
   ]
  },
  {
   "cell_type": "code",
   "execution_count": 67,
   "metadata": {},
   "outputs": [
    {
     "name": "stdout",
     "output_type": "stream",
     "text": [
      " 0.8009039759635925\n",
      " 0.141163170337677\n",
      " 0.12127053737640381\n",
      " 0.18267393112182617\n",
      " 0.5612189769744873\n",
      " 0.04778707027435303\n",
      " 0.5900092720985413\n",
      " 0.8854416608810425\n",
      " 0.8316203951835632\n",
      "[torch.FloatStorage of size 9]\n",
      "0\n",
      "tensor([[0.8009, 0.1412, 0.1213],\n",
      "        [0.1827, 0.5612, 0.0478],\n",
      "        [0.5900, 0.8854, 0.8316]])\n"
     ]
    }
   ],
   "source": [
    "print(rand_tensor_float.storage())\n",
    "print(rand_tensor_float.storage_offset())\n",
    "print(rand_tensor_float.contiguous())"
   ]
  },
  {
   "cell_type": "code",
   "execution_count": 94,
   "metadata": {},
   "outputs": [
    {
     "name": "stdout",
     "output_type": "stream",
     "text": [
      " 0.8009039759635925\n",
      " 0.141163170337677\n",
      " 0.12127053737640381\n",
      " 0.18267393112182617\n",
      " 0.5612189769744873\n",
      " 0.04778707027435303\n",
      " 0.5900092720985413\n",
      " 0.8854416608810425\n",
      " 0.8316203951835632\n",
      "[torch.FloatStorage of size 9]\n",
      "0\n",
      "tensor([[0.8009, 0.1827, 0.5900],\n",
      "        [0.1412, 0.5612, 0.8854],\n",
      "        [0.1213, 0.0478, 0.8316]])\n"
     ]
    }
   ],
   "source": [
    "rand_tensor_float_t=rand_tensor_float.t()\n",
    "print(rand_tensor_float_t.storage())\n",
    "print(rand_tensor_float_t.storage_offset())\n",
    "print(rand_tensor_float_t.contiguous())"
   ]
  },
  {
   "cell_type": "code",
   "execution_count": 65,
   "metadata": {},
   "outputs": [
    {
     "name": "stdout",
     "output_type": "stream",
     "text": [
      " 0.775733305705393\n",
      " 0.6383104187169981\n",
      " 0.5291102053915608\n",
      " 0.06959019267742872\n",
      " 0.5981132952869858\n",
      " 0.022468670203133145\n",
      " 0.8094413320501909\n",
      " 0.2542800493231827\n",
      " 0.6257892479618693\n",
      " 0.6113720711029355\n",
      " 0.5371115658848371\n",
      " 0.8009418147578846\n",
      " 0.16510809722712172\n",
      " 0.2665173831710238\n",
      " 0.29609008894321476\n",
      " 0.6892442343441633\n",
      "[torch.DoubleStorage of size 16]\n",
      "0\n",
      "tensor([[0.7757, 0.6383, 0.5291, 0.0696],\n",
      "        [0.5981, 0.0225, 0.8094, 0.2543],\n",
      "        [0.6258, 0.6114, 0.5371, 0.8009],\n",
      "        [0.1651, 0.2665, 0.2961, 0.6892]], dtype=torch.float64)\n"
     ]
    }
   ],
   "source": [
    "print(rand_tensor_double.storage())\n",
    "print(rand_tensor_double.storage_offset())\n",
    "print(rand_tensor_double.contiguous())"
   ]
  },
  {
   "cell_type": "code",
   "execution_count": 95,
   "metadata": {},
   "outputs": [
    {
     "name": "stdout",
     "output_type": "stream",
     "text": [
      " 0.775733305705393\n",
      " 0.6383104187169981\n",
      " 0.5291102053915608\n",
      " 0.06959019267742872\n",
      " 0.5981132952869858\n",
      " 0.022468670203133145\n",
      " 0.8094413320501909\n",
      " 0.2542800493231827\n",
      " 0.6257892479618693\n",
      " 0.6113720711029355\n",
      " 0.5371115658848371\n",
      " 0.8009418147578846\n",
      " 0.16510809722712172\n",
      " 0.2665173831710238\n",
      " 0.29609008894321476\n",
      " 0.6892442343441633\n",
      "[torch.DoubleStorage of size 16]\n",
      "0\n",
      "tensor([[0.7757, 0.5981, 0.6258, 0.1651],\n",
      "        [0.6383, 0.0225, 0.6114, 0.2665],\n",
      "        [0.5291, 0.8094, 0.5371, 0.2961],\n",
      "        [0.0696, 0.2543, 0.8009, 0.6892]], dtype=torch.float64)\n"
     ]
    }
   ],
   "source": [
    "rand_tensor_double_t=rand_tensor_double.t()\n",
    "print(rand_tensor_double_t.storage())\n",
    "print(rand_tensor_double_t.storage_offset())\n",
    "print(rand_tensor_double_t.contiguous())"
   ]
  },
  {
   "cell_type": "code",
   "execution_count": 66,
   "metadata": {},
   "outputs": [
    {
     "name": "stdout",
     "output_type": "stream",
     "text": [
      " 26\n",
      " 19\n",
      " 20\n",
      " 14\n",
      " 3\n",
      " 4\n",
      " 9\n",
      " 15\n",
      " 70\n",
      " 47\n",
      " 92\n",
      " 94\n",
      " 57\n",
      " 56\n",
      " 54\n",
      " 99\n",
      " 47\n",
      " 97\n",
      " 88\n",
      " 66\n",
      " 79\n",
      " 15\n",
      " 75\n",
      " 20\n",
      " 40\n",
      " 75\n",
      " 32\n",
      " 67\n",
      " 20\n",
      " 78\n",
      " 65\n",
      " 83\n",
      " 27\n",
      " 69\n",
      " 57\n",
      " 21\n",
      " 44\n",
      " 10\n",
      " 63\n",
      " 15\n",
      " 81\n",
      " 51\n",
      " 48\n",
      " 24\n",
      " 0\n",
      " 30\n",
      " 72\n",
      " 88\n",
      " 98\n",
      " 1\n",
      " 55\n",
      " 43\n",
      " 8\n",
      " 11\n",
      " 42\n",
      " 84\n",
      " 44\n",
      " 70\n",
      " 79\n",
      " 80\n",
      "[torch.ShortStorage of size 60]\n",
      "0\n",
      "tensor([[[26, 19, 20, 14],\n",
      "         [ 3,  4,  9, 15],\n",
      "         [70, 47, 92, 94]],\n",
      "\n",
      "        [[57, 56, 54, 99],\n",
      "         [47, 97, 88, 66],\n",
      "         [79, 15, 75, 20]],\n",
      "\n",
      "        [[40, 75, 32, 67],\n",
      "         [20, 78, 65, 83],\n",
      "         [27, 69, 57, 21]],\n",
      "\n",
      "        [[44, 10, 63, 15],\n",
      "         [81, 51, 48, 24],\n",
      "         [ 0, 30, 72, 88]],\n",
      "\n",
      "        [[98,  1, 55, 43],\n",
      "         [ 8, 11, 42, 84],\n",
      "         [44, 70, 79, 80]]], dtype=torch.int16)\n"
     ]
    }
   ],
   "source": [
    "print(rand_tensor_short.storage())\n",
    "print(rand_tensor_short.storage_offset())\n",
    "print(rand_tensor_short.contiguous())"
   ]
  },
  {
   "cell_type": "code",
   "execution_count": 97,
   "metadata": {},
   "outputs": [
    {
     "name": "stdout",
     "output_type": "stream",
     "text": [
      " 26\n",
      " 19\n",
      " 20\n",
      " 14\n",
      " 3\n",
      " 4\n",
      " 9\n",
      " 15\n",
      " 70\n",
      " 47\n",
      " 92\n",
      " 94\n",
      " 57\n",
      " 56\n",
      " 54\n",
      " 99\n",
      " 47\n",
      " 97\n",
      " 88\n",
      " 66\n",
      " 79\n",
      " 15\n",
      " 75\n",
      " 20\n",
      " 40\n",
      " 75\n",
      " 32\n",
      " 67\n",
      " 20\n",
      " 78\n",
      " 65\n",
      " 83\n",
      " 27\n",
      " 69\n",
      " 57\n",
      " 21\n",
      " 44\n",
      " 10\n",
      " 63\n",
      " 15\n",
      " 81\n",
      " 51\n",
      " 48\n",
      " 24\n",
      " 0\n",
      " 30\n",
      " 72\n",
      " 88\n",
      " 98\n",
      " 1\n",
      " 55\n",
      " 43\n",
      " 8\n",
      " 11\n",
      " 42\n",
      " 84\n",
      " 44\n",
      " 70\n",
      " 79\n",
      " 80\n",
      "[torch.ShortStorage of size 60]\n",
      "0\n",
      "tensor([[[26, 19, 20, 14],\n",
      "         [57, 56, 54, 99],\n",
      "         [40, 75, 32, 67],\n",
      "         [44, 10, 63, 15],\n",
      "         [98,  1, 55, 43]],\n",
      "\n",
      "        [[ 3,  4,  9, 15],\n",
      "         [47, 97, 88, 66],\n",
      "         [20, 78, 65, 83],\n",
      "         [81, 51, 48, 24],\n",
      "         [ 8, 11, 42, 84]],\n",
      "\n",
      "        [[70, 47, 92, 94],\n",
      "         [79, 15, 75, 20],\n",
      "         [27, 69, 57, 21],\n",
      "         [ 0, 30, 72, 88],\n",
      "         [44, 70, 79, 80]]], dtype=torch.int16)\n"
     ]
    }
   ],
   "source": [
    "rand_tensor_short_t=rand_tensor_short.transpose(1,0)\n",
    "print(rand_tensor_short_t.storage())\n",
    "print(rand_tensor_short_t.storage_offset())\n",
    "print(rand_tensor_short_t.contiguous())"
   ]
  },
  {
   "cell_type": "markdown",
   "metadata": {},
   "source": [
    "Save and load one among the elements of tensors using the torch:"
   ]
  },
  {
   "cell_type": "code",
   "execution_count": 33,
   "metadata": {},
   "outputs": [],
   "source": [
    "with open(\"double_tensor.t\",'wb') as f:\n",
    "    torch.save(rand_tensor_double, f)\n",
    "with open(\"double_tensor.t\",'rb') as f:\n",
    "    points = torch.load(f)"
   ]
  },
  {
   "cell_type": "markdown",
   "metadata": {},
   "source": [
    "Save and load one among the elements of tensors using the h5py file:"
   ]
  },
  {
   "cell_type": "code",
   "execution_count": 38,
   "metadata": {},
   "outputs": [],
   "source": [
    "import h5py\n",
    "f = h5py.File('float_tensor.hdf5', 'w')\n",
    "dset = f.create_dataset('randompoints', data=points.numpy())\n",
    "f.close()"
   ]
  },
  {
   "cell_type": "code",
   "execution_count": 45,
   "metadata": {},
   "outputs": [
    {
     "data": {
      "text/plain": [
       "array([[0.56445116, 0.9160951 , 0.86437304, 0.15693904],\n",
       "       [0.67579893, 0.74889005, 0.67148646, 0.78424981],\n",
       "       [0.83082425, 0.6426273 , 0.32130759, 0.59857934],\n",
       "       [0.34977857, 0.93983639, 0.2786402 , 0.5466177 ]])"
      ]
     },
     "execution_count": 45,
     "metadata": {},
     "output_type": "execute_result"
    }
   ],
   "source": [
    "f = h5py.File('float_tensor.hdf5', 'r')\n",
    "ds = f['randompoints']\n",
    "ds[:]"
   ]
  },
  {
   "cell_type": "markdown",
   "metadata": {},
   "source": [
    "The different true and false requires_grad values in Autograd:"
   ]
  },
  {
   "cell_type": "code",
   "execution_count": 72,
   "metadata": {},
   "outputs": [],
   "source": [
    "x=torch.rand((2,2))\n",
    "y=torch.rand((2,2),requires_grad=True)\n",
    "z=torch.rand((2,2))"
   ]
  },
  {
   "cell_type": "code",
   "execution_count": 76,
   "metadata": {},
   "outputs": [
    {
     "data": {
      "text/plain": [
       "True"
      ]
     },
     "execution_count": 76,
     "metadata": {},
     "output_type": "execute_result"
    }
   ],
   "source": [
    "a=x+y\n",
    "a.requires_grad"
   ]
  },
  {
   "cell_type": "code",
   "execution_count": 77,
   "metadata": {},
   "outputs": [],
   "source": [
    "b=x+z"
   ]
  },
  {
   "cell_type": "code",
   "execution_count": 78,
   "metadata": {},
   "outputs": [
    {
     "data": {
      "text/plain": [
       "False"
      ]
     },
     "execution_count": 78,
     "metadata": {},
     "output_type": "execute_result"
    }
   ],
   "source": [
    "b.requires_grad"
   ]
  },
  {
   "cell_type": "code",
   "execution_count": null,
   "metadata": {},
   "outputs": [],
   "source": []
  }
 ],
 "metadata": {
  "kernelspec": {
   "display_name": "Python 3",
   "language": "python",
   "name": "python3"
  },
  "language_info": {
   "codemirror_mode": {
    "name": "ipython",
    "version": 3
   },
   "file_extension": ".py",
   "mimetype": "text/x-python",
   "name": "python",
   "nbconvert_exporter": "python",
   "pygments_lexer": "ipython3",
   "version": "3.8.1"
  }
 },
 "nbformat": 4,
 "nbformat_minor": 2
}
