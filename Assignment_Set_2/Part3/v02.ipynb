{
  "nbformat": 4,
  "nbformat_minor": 0,
  "metadata": {
    "colab": {
      "name": "Untitled7.ipynb",
      "provenance": [],
      "collapsed_sections": [],
      "authorship_tag": "ABX9TyMf14jqWseQC80SCwt9YgX2",
      "include_colab_link": true
    },
    "kernelspec": {
      "name": "python3",
      "display_name": "Python 3"
    },
    "accelerator": "GPU"
  },
  "cells": [
    {
      "cell_type": "markdown",
      "metadata": {
        "id": "view-in-github",
        "colab_type": "text"
      },
      "source": [
        "<a href=\"https://colab.research.google.com/github/ftmhrahimi/Deep_Learning_F20_Assignments/blob/master/Assignment_Set_2/Part3/v02.ipynb\" target=\"_parent\"><img src=\"https://colab.research.google.com/assets/colab-badge.svg\" alt=\"Open In Colab\"/></a>"
      ]
    },
    {
      "cell_type": "code",
      "metadata": {
        "id": "XKqUGBuc6aKb"
      },
      "source": [
        "import numpy as np\n",
        "import math\n",
        "x_data=np.random.rand(2,9000)*10"
      ],
      "execution_count": 94,
      "outputs": []
    },
    {
      "cell_type": "code",
      "metadata": {
        "id": "mFb9Q8pkDNGi"
      },
      "source": [
        "function1=lambda x:((x-1)*(x-2)*(x-3)*(x-4))**2\n",
        "function2=lambda y:((y-1)*(y-2)*(y-3)*(y-4))"
      ],
      "execution_count": 108,
      "outputs": []
    },
    {
      "cell_type": "code",
      "metadata": {
        "id": "IwPgzjnJEO8-"
      },
      "source": [
        "x1=[function1(i) for i in x_data[0]]\n",
        "y1=[function2(i) for i in x_data[1]]\n",
        "y_data=(sum(y1,x1))\n",
        "y_data=[[i/1000] for i in y_data]"
      ],
      "execution_count": 109,
      "outputs": []
    },
    {
      "cell_type": "code",
      "metadata": {
        "id": "QLcAjSMD6ndr"
      },
      "source": [
        "class Connection:\n",
        "    def __init__(self, connectedNeuron):\n",
        "        self.connectedNeuron = connectedNeuron\n",
        "        self.weight = np.random.normal()\n",
        "        self.dWeight = 0.0"
      ],
      "execution_count": 110,
      "outputs": []
    },
    {
      "cell_type": "code",
      "metadata": {
        "id": "VBknZvqC6q9A"
      },
      "source": [
        "class Neuron:\n",
        "    eta = 0.1\n",
        "    alpha = 0.1\n",
        "\n",
        "    def __init__(self, layer):\n",
        "        self.dendrons = []\n",
        "        self.error = 0.0\n",
        "        self.gradient = 0.0\n",
        "        self.output = 0.0\n",
        "        if layer is None:\n",
        "            pass\n",
        "        else:\n",
        "            for neuron in layer:\n",
        "                con = Connection(neuron)\n",
        "                self.dendrons.append(con)\n",
        "    def addError(self, err):\n",
        "        self.error = self.error + err\n",
        "\n",
        "    def sigmoid(self, x):\n",
        "        return 1 / (1 + math.exp(-x * 1.0))\n",
        "\n",
        "    def dSigmoid(self, x):\n",
        "        return x * (1.0 - x)\n",
        "\n",
        "    def setError(self, err):\n",
        "        self.error = err\n",
        "\n",
        "    def setOutput(self, output):\n",
        "        self.output = output\n",
        "\n",
        "    def getOutput(self):\n",
        "        return self.output\n",
        "    \n",
        "    def feedForword(self):\n",
        "        sumOutput = 0\n",
        "        if len(self.dendrons) == 0:\n",
        "            return\n",
        "        for dendron in self.dendrons:\n",
        "            sumOutput = sumOutput + dendron.connectedNeuron.getOutput() * dendron.weight\n",
        "        self.output = self.sigmoid(sumOutput)\n",
        "    def backPropagate(self):\n",
        "        self.gradient = self.error * self.dSigmoid(self.output)\n",
        "        for dendron in self.dendrons:\n",
        "            dendron.dWeight = Neuron.eta * (\n",
        "            dendron.connectedNeuron.output * self.gradient) + self.alpha * dendron.dWeight\n",
        "            dendron.weight = dendron.weight + dendron.dWeight\n",
        "            dendron.connectedNeuron.addError(dendron.weight * self.gradient)\n",
        "        self.error = 0;"
      ],
      "execution_count": 111,
      "outputs": []
    },
    {
      "cell_type": "code",
      "metadata": {
        "id": "AMCcHAEG6uX7"
      },
      "source": [
        "class Network:\n",
        "    def __init__(self, topology):\n",
        "        self.layers = []\n",
        "        for numNeuron in topology:\n",
        "            layer = []\n",
        "            for i in range(numNeuron):\n",
        "                if (len(self.layers) == 0):\n",
        "                    layer.append(Neuron(None))\n",
        "                else:\n",
        "                    layer.append(Neuron(self.layers[-1]))\n",
        "            layer.append(Neuron(None)) # bias neuron\n",
        "            layer[-1].setOutput(1) # setting output of bias neuron as 1\n",
        "            self.layers.append(layer)\n",
        "    def setInput(self, inputs):\n",
        "        for i in range(len(inputs)):\n",
        "            self.layers[0][i].setOutput(inputs[i])\n",
        "\n",
        "    def getError(self, target):\n",
        "        err = 0\n",
        "        for i in range(len(target)):\n",
        "            e = (target[i] - self.layers[-1][i].getOutput())\n",
        "            err = err + e ** 2\n",
        "        err = err / len(target)\n",
        "        err = math.sqrt(err)\n",
        "        return err\n",
        "    def feedForword(self):\n",
        "        for layer in self.layers[1:]:\n",
        "            for neuron in layer:\n",
        "                neuron.feedForword();\n",
        "    def backPropagate(self, target):\n",
        "        for i in range(len(target)):\n",
        "            self.layers[-1][i].setError(target[i] - self.layers[-1][i].getOutput())\n",
        "        for layer in self.layers[::-1]: #reverse the order\n",
        "            for neuron in layer:\n",
        "                neuron.backPropagate()\n",
        "    def getResults(self):\n",
        "        output = []\n",
        "        for neuron in self.layers[-1]:\n",
        "            output.append(neuron.getOutput())\n",
        "        output.pop() # removing the bias neuron\n",
        "        return output"
      ],
      "execution_count": 112,
      "outputs": []
    },
    {
      "cell_type": "code",
      "metadata": {
        "id": "YUbKiKB26ykA",
        "outputId": "46d9799c-4067-4c6e-989d-82af11a4ff10",
        "colab": {
          "base_uri": "https://localhost:8080/",
          "height": 204
        }
      },
      "source": [
        "def main():\n",
        "    #topology = []\n",
        "    #topology.append(2)\n",
        "    #topology.append(3)\n",
        "    #topology.append(2)\n",
        "    net = Network([2,16,8,4,1])\n",
        "    Neuron.eta = 0.001\n",
        "    Neuron.alpha = 0.01\n",
        "    while True:\n",
        "\n",
        "        err = 0\n",
        "        inputs = x_data.T\n",
        "        outputs =y_data\n",
        "        for i in range(len(inputs)):\n",
        "            net.setInput(inputs[i])\n",
        "            net.feedForword()\n",
        "            net.backPropagate(outputs[i])\n",
        "            err = err + net.getError(outputs[i])\n",
        "        print (\"error: \", err)\n",
        "        if err <1:\n",
        "            break\n",
        "    while True:\n",
        "      a = float(input('type 1st input :'))\n",
        "      b = float(input('type 2st input :'))\n",
        "      net.setInput([a, b])\n",
        "      net.feedForword()\n",
        "      print (net.getResults())\n",
        "if __name__ == '__main__':\n",
        "  main()"
      ],
      "execution_count": null,
      "outputs": [
        {
          "output_type": "stream",
          "text": [
            "error:  42037642.35677294\n",
            "error:  42037641.89924778\n",
            "error:  42037641.883995794\n",
            "error:  42037641.87776602\n",
            "error:  42037641.87435715\n",
            "error:  42037641.87220314\n",
            "error:  42037641.87071779\n",
            "error:  42037641.86963119\n",
            "error:  42037641.868801676\n",
            "error:  42037641.86814752\n",
            "error:  42037641.867618494\n"
          ],
          "name": "stdout"
        }
      ]
    },
    {
      "cell_type": "code",
      "metadata": {
        "id": "34n0EBmARod3"
      },
      "source": [
        "inputs = [[0, 0], [0, 1], [1, 0], [1, 1]]\n",
        "outputs = [[0, 0], [1, 0], [1, 0], [0, 1]]"
      ],
      "execution_count": 67,
      "outputs": []
    },
    {
      "cell_type": "code",
      "metadata": {
        "id": "7XnGVvgakPET"
      },
      "source": [
        "a=list(map(list, zip(*x_data)))"
      ],
      "execution_count": 19,
      "outputs": []
    },
    {
      "cell_type": "code",
      "metadata": {
        "id": "rkd4By4WkVgi",
        "outputId": "fedc2f46-0993-4cb7-f425-4a66855c5348",
        "colab": {
          "base_uri": "https://localhost:8080/",
          "height": 34
        }
      },
      "source": [
        "len(x_data.T)"
      ],
      "execution_count": 67,
      "outputs": [
        {
          "output_type": "execute_result",
          "data": {
            "text/plain": [
              "2000"
            ]
          },
          "metadata": {
            "tags": []
          },
          "execution_count": 67
        }
      ]
    },
    {
      "cell_type": "code",
      "metadata": {
        "id": "ZKaYUC-53dlF"
      },
      "source": [
        ""
      ],
      "execution_count": null,
      "outputs": []
    }
  ]
}