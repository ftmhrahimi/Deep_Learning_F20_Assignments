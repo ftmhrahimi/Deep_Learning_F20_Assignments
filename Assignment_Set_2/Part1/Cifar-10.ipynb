{
 "cells": [
  {
   "cell_type": "code",
   "execution_count": 37,
   "metadata": {},
   "outputs": [],
   "source": [
    "import tensorflow.compat.v1 as tf\n",
    "import pandas as pd\n",
    "import numpy as np\n",
    "import math\n",
    "import timeit\n",
    "import matplotlib.pyplot as plt\n",
    "from six.moves import cPickle as pickle\n",
    "import os\n",
    "import platform"
   ]
  },
  {
   "cell_type": "code",
   "execution_count": 31,
   "metadata": {},
   "outputs": [],
   "source": [
    "classes = ('plane', 'car', 'bird', 'cat',\n",
    "           'deer', 'dog', 'frog', 'horse', 'ship', 'truck')"
   ]
  },
  {
   "cell_type": "code",
   "execution_count": 32,
   "metadata": {},
   "outputs": [],
   "source": [
    "def load_pickle(f):\n",
    "    version = platform.python_version_tuple()\n",
    "    if version[0] == '2':\n",
    "        return  pickle.load(f)\n",
    "    elif version[0] == '3':\n",
    "        return  pickle.load(f, encoding='latin1')\n",
    "    raise ValueError(\"invalid python version: {}\".format(version))\n",
    "\n",
    "def load_CIFAR_batch(filename):\n",
    "    \"\"\" load single batch of cifar \"\"\"\n",
    "    with open(filename, 'rb') as f:\n",
    "        datadict = load_pickle(f)\n",
    "        X = datadict['data']\n",
    "        Y = datadict['labels']\n",
    "        X = X.reshape(10000, 3, 32, 32).transpose(0,2,3,1).astype(\"float\")\n",
    "        Y = np.array(Y)\n",
    "        return X, Y\n",
    "\n",
    "def load_CIFAR10(ROOT):\n",
    "    \"\"\" load all of cifar \"\"\"\n",
    "    xs = []\n",
    "    ys = []\n",
    "    for b in range(1,6):\n",
    "        f = os.path.join(ROOT, 'data_batch_%d' % (b, ))\n",
    "        X, Y = load_CIFAR_batch(f)\n",
    "        xs.append(X)\n",
    "        ys.append(Y)\n",
    "    Xtr = np.concatenate(xs)\n",
    "    Ytr = np.concatenate(ys)\n",
    "    del X, Y\n",
    "    Xte, Yte = load_CIFAR_batch(os.path.join(ROOT, 'test_batch'))\n",
    "    return Xtr, Ytr, Xte, Yte"
   ]
  },
  {
   "cell_type": "code",
   "execution_count": 33,
   "metadata": {},
   "outputs": [],
   "source": [
    "def get_CIFAR10_data(num_training=49000, num_validation=1000, num_test=10000):\n",
    "    # Load the raw CIFAR-10 data\n",
    "    cifar10_dir = 'cifar-10-batches-py'\n",
    "    X_train, y_train, X_test, y_test = load_CIFAR10(cifar10_dir)\n",
    "\n",
    "    # Subsample the data\n",
    "    mask = range(num_training, num_training + num_validation)\n",
    "    X_val = X_train[mask]\n",
    "    y_val = y_train[mask]\n",
    "    mask = range(num_training)\n",
    "    X_train = X_train[mask]\n",
    "    y_train = y_train[mask]\n",
    "    mask = range(num_test)\n",
    "    X_test = X_test[mask]\n",
    "    y_test = y_test[mask]\n",
    "\n",
    "    # Normalize the data: subtract the mean image\n",
    "    mean_image = np.mean(X_train, axis=0)\n",
    "    X_train -= mean_image\n",
    "    X_val -= mean_image\n",
    "    X_test -= mean_image\n",
    "\n",
    "    return X_train, y_train, X_val, y_val, X_test, y_test"
   ]
  },
  {
   "cell_type": "code",
   "execution_count": 34,
   "metadata": {},
   "outputs": [
    {
     "name": "stdout",
     "output_type": "stream",
     "text": [
      "Train data shape:  (49000, 32, 32, 3)\n",
      "Train labels shape:  (49000,)\n",
      "Validation data shape:  (1000, 32, 32, 3)\n",
      "Validation labels shape:  (1000,)\n",
      "Test data shape:  (10000, 32, 32, 3)\n",
      "Test labels shape:  (10000,)\n"
     ]
    }
   ],
   "source": [
    "# Invoke the above function to get our data.\n",
    "X_train, y_train, X_val, y_val, X_test, y_test = get_CIFAR10_data()\n",
    "print('Train data shape: ', X_train.shape)\n",
    "print('Train labels shape: ', y_train.shape)\n",
    "print('Validation data shape: ', X_val.shape)\n",
    "print('Validation labels shape: ', y_val.shape)\n",
    "print('Test data shape: ', X_test.shape)\n",
    "print('Test labels shape: ', y_test.shape)"
   ]
  },
  {
   "cell_type": "code",
   "execution_count": 35,
   "metadata": {},
   "outputs": [],
   "source": [
    "# define net\n",
    "class CifarNet():\n",
    "    def __init__(self):\n",
    "        self.Wconv1 = tf.get_variable(\"Wconv1\", shape=[5, 5, 3, 32])\n",
    "        self.bconv1 = tf.get_variable(\"bconv1\", shape=[32])\n",
    "        # (32-5)/1 + 1 = 28\n",
    "        # 28x28x64 = 50176\n",
    "        self.Wconv2 = tf.get_variable(\"Wconv2\", shape=[5, 5, 32, 64])\n",
    "        self.bconv2 = tf.get_variable(\"bconv2\", shape=[64])\n",
    "        # affine layer with 1024\n",
    "        self.W1 = tf.get_variable(\"W1\", shape=[3136, 1024])\n",
    "        self.b1 = tf.get_variable(\"b1\", shape=[1024])\n",
    "        # affine layer with 10\n",
    "        self.W2 = tf.get_variable(\"W2\", shape=[1024, 10])\n",
    "        self.b2 = tf.get_variable(\"b2\", shape=[10])        \n",
    "        \n",
    "    def forward(self, X, y, is_training):\n",
    "        # define our graph (e.g. two_layer_convnet) with stride 1\n",
    "        conv1 = tf.nn.conv2d(X, self.Wconv1, strides=[1, 1, 1, 1], padding='SAME') + self.bconv1\n",
    "        print(conv1.shape)\n",
    "        # ReLU Activation Layer\n",
    "        relu1 = tf.nn.relu(conv1)\n",
    "        print(relu1)\n",
    "        # Conv\n",
    "        conv2 = tf.nn.conv2d(relu1, self.Wconv2, strides=[1, 2, 2, 1], padding='VALID') + self.bconv2\n",
    "        print(conv2.shape)\n",
    "        # ReLU Activation Layer\n",
    "        relu2 = tf.nn.relu(conv2)\n",
    "        print(relu2)\n",
    "        # 2x2 Max Pooling layer with a stride of 2\n",
    "        maxpool = tf.layers.max_pooling2d(relu2, pool_size=(2,2), strides=2)\n",
    "        print(maxpool.shape)\n",
    "        maxpool_flat = tf.reshape(maxpool,[-1,3136])\n",
    "        # Spatial Batch Normalization Layer (trainable parameters, with scale and centering)\n",
    "        bn1 = tf.layers.batch_normalization(inputs=maxpool_flat, center=True, scale=True, training=is_training)\n",
    "        # Affine layer with 1024 output units\n",
    "        affine1 = tf.matmul(bn1, self.W1) + self.b1\n",
    "        print(affine1.shape)\n",
    "        # vanilla batch normalization\n",
    "        affine1_flat = tf.reshape(affine1,[-1,1024])\n",
    "        bn2 = tf.layers.batch_normalization(inputs=affine1, center=True, scale=True, training=is_training)\n",
    "        print(bn2.shape)\n",
    "        # ReLU Activation Layer\n",
    "        relu2 = tf.nn.relu(bn2)\n",
    "        print(relu2.shape)\n",
    "        # dropout\n",
    "        drop1 = tf.layers.dropout(inputs=relu2, training=is_training)\n",
    "        # Affine layer from 1024 input units to 10 outputs\n",
    "        affine2 = tf.matmul(drop1, self.W2) + self.b2\n",
    "        # vanilla batch normalization\n",
    "        affine2_flat = tf.reshape(affine2,[-1,3136])\n",
    "        self.predict = tf.layers.batch_normalization(inputs=affine2, center=True, scale=True, training=is_training)\n",
    "        print(self.predict.shape)\n",
    "        return self.predict\n",
    "    \n",
    "    def run(self, session, loss_val, Xd, yd,\n",
    "                  epochs=1, batch_size=64, print_every=100,\n",
    "                  training=None, plot_losses=False, isSoftMax=False):\n",
    "        # have tensorflow compute accuracy\n",
    "        if isSoftMax:\n",
    "            correct_prediction = tf.nn.softmax(self.predict)\n",
    "        else:\n",
    "            correct_prediction = tf.equal(tf.argmax(self.predict,1), y)\n",
    "        accuracy = tf.reduce_mean(tf.cast(correct_prediction, tf.float32))\n",
    "\n",
    "        # shuffle indicies\n",
    "        train_indicies = np.arange(Xd.shape[0])\n",
    "        np.random.shuffle(train_indicies)\n",
    "\n",
    "        training_now = training is not None\n",
    "\n",
    "        # setting up variables we want to compute (and optimizing)\n",
    "        # if we have a training function, add that to things we compute\n",
    "        variables = [mean_loss, correct_prediction, accuracy]\n",
    "        if training_now:\n",
    "            variables[-1] = training\n",
    "\n",
    "        # counter \n",
    "        iter_cnt = 0\n",
    "        for e in range(epochs):\n",
    "            # keep track of losses and accuracy\n",
    "            correct = 0\n",
    "            losses = []\n",
    "            # make sure we iterate over the dataset once\n",
    "            for i in range(int(math.ceil(Xd.shape[0]/batch_size))):\n",
    "                # generate indicies for the batch\n",
    "                start_idx = (i*batch_size)%Xd.shape[0]\n",
    "                idx = train_indicies[start_idx:start_idx+batch_size]\n",
    "\n",
    "                # create a feed dictionary for this batch\n",
    "                feed_dict = {X: Xd[idx,:],\n",
    "                             y: yd[idx],\n",
    "                             is_training: training_now }\n",
    "                # get batch size\n",
    "                actual_batch_size = yd[idx].shape[0]\n",
    "\n",
    "                # have tensorflow compute loss and correct predictions\n",
    "                # and (if given) perform a training step\n",
    "                loss, corr, _ = session.run(variables,feed_dict=feed_dict)\n",
    "\n",
    "                # aggregate performance stats\n",
    "                losses.append(loss*actual_batch_size)\n",
    "                correct += np.sum(corr)\n",
    "\n",
    "                # print every now and then\n",
    "                if training_now and (iter_cnt % print_every) == 0:\n",
    "                    print(\"Iteration {0}: with minibatch training loss = {1:.3g} and accuracy of {2:.2g}\"\\\n",
    "                          .format(iter_cnt,loss,np.sum(corr)/actual_batch_size))\n",
    "                iter_cnt += 1\n",
    "            total_correct = correct/Xd.shape[0]\n",
    "            total_loss = np.sum(losses)/Xd.shape[0]\n",
    "            print(\"Epoch {2}, Overall loss = {0:.3g} and accuracy of {1:.3g}\"\\\n",
    "                  .format(total_loss,total_correct,e+1))\n",
    "            if plot_losses:\n",
    "                plt.plot(losses)\n",
    "                plt.grid(True)\n",
    "                plt.title('Epoch {} Loss'.format(e+1))\n",
    "                plt.xlabel('minibatch number')\n",
    "                plt.ylabel('minibatch loss')\n",
    "                plt.show()\n",
    "        return total_loss, total_correct\n"
   ]
  },
  {
   "cell_type": "code",
   "execution_count": 40,
   "metadata": {},
   "outputs": [],
   "source": [
    "tf.reset_default_graph()\n",
    "X = tf.placeholder(tf.float32, [None, 32, 32, 3])\n",
    "y = tf.placeholder(tf.int64, [None])\n",
    "is_training = tf.placeholder(tf.bool)\n",
    "\n",
    "net = CifarNet()\n",
    "net.forward(X,y,is_training)"
   ]
  },
  {
   "cell_type": "code",
   "execution_count": 51,
   "metadata": {},
   "outputs": [
    {
     "name": "stdout",
     "output_type": "stream",
     "text": [
      "WARNING:tensorflow:From <ipython-input-51-94b7eb5564d1>:20: softmax_cross_entropy_with_logits (from tensorflow.python.ops.nn_ops) is deprecated and will be removed in a future version.\n",
      "Instructions for updating:\n",
      "\n",
      "Future major versions of TensorFlow will allow gradients to flow\n",
      "into the labels input on backprop by default.\n",
      "\n",
      "See `tf.nn.softmax_cross_entropy_with_logits_v2`.\n",
      "\n"
     ]
    }
   ],
   "source": [
    "# Annealing the learning rate\n",
    "global_step = tf.Variable(0, trainable=False)\n",
    "starter_learning_rate = 1e-3\n",
    "end_learning_rate = 5e-3\n",
    "decay_steps = 10000\n",
    "\n",
    "learning_rate = tf.train.polynomial_decay(starter_learning_rate, global_step,\n",
    "                                          decay_steps, end_learning_rate,\n",
    "                                          power=0.5)\n",
    "\n",
    "exp_learning_rate = tf.train.exponential_decay(starter_learning_rate, global_step,\n",
    "                                               100000, 0.96, staircase=True)\n",
    "\n",
    "\n",
    "# Feel free to play with this cell\n",
    "mean_loss = None\n",
    "optimizer = None\n",
    "\n",
    "# define our loss\n",
    "cross_entr_loss = tf.nn.softmax_cross_entropy_with_logits(labels=tf.one_hot(y,10), logits=net.predict)\n",
    "mean_loss = tf.reduce_mean(cross_entr_loss)\n",
    "\n",
    "# define our optimizer\n",
    "optimizer = tf.train.AdamOptimizer(exp_learning_rate)\n",
    "\n",
    "\n",
    "# batch normalization in tensorflow requires this extra dependency\n",
    "extra_update_ops = tf.get_collection(tf.GraphKeys.UPDATE_OPS)\n",
    "with tf.control_dependencies(extra_update_ops):\n",
    "    train_step = optimizer.minimize(mean_loss, global_step=global_step)"
   ]
  },
  {
   "cell_type": "code",
   "execution_count": null,
   "metadata": {},
   "outputs": [
    {
     "name": "stdout",
     "output_type": "stream",
     "text": [
      "Training\n",
      "Iteration 0: with minibatch training loss = 2.69 and accuracy of 0.11\n",
      "Iteration 200: with minibatch training loss = 1.36 and accuracy of 0.5\n",
      "Iteration 400: with minibatch training loss = 1.3 and accuracy of 0.58\n",
      "Iteration 600: with minibatch training loss = 1.11 and accuracy of 0.56\n",
      "Epoch 1, Overall loss = 1.32 and accuracy of 0.559\n"
     ]
    },
    {
     "data": {
      "image/png": "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\n",
      "text/plain": [
       "<Figure size 432x288 with 1 Axes>"
      ]
     },
     "metadata": {
      "needs_background": "light"
     },
     "output_type": "display_data"
    },
    {
     "name": "stdout",
     "output_type": "stream",
     "text": [
      "Iteration 800: with minibatch training loss = 1.34 and accuracy of 0.55\n",
      "Iteration 1000: with minibatch training loss = 1.14 and accuracy of 0.62\n",
      "Iteration 1200: with minibatch training loss = 1.05 and accuracy of 0.69\n",
      "Iteration 1400: with minibatch training loss = 0.907 and accuracy of 0.69\n",
      "Epoch 2, Overall loss = 0.992 and accuracy of 0.675\n"
     ]
    },
    {
     "data": {
      "image/png": "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\n",
      "text/plain": [
       "<Figure size 432x288 with 1 Axes>"
      ]
     },
     "metadata": {
      "needs_background": "light"
     },
     "output_type": "display_data"
    },
    {
     "name": "stdout",
     "output_type": "stream",
     "text": [
      "Validation\n"
      "Epoch 1, Overall loss = 0.891 and accuracy of 0.742"
     ]
    }
   ],
   "source": [
    "# train with 10 epochs\n",
    "sess = tf.Session()\n",
    "\n",
    "try:\n",
    "    with tf.device(\"/cpu:0\") as dev:\n",
    "        sess.run(tf.global_variables_initializer())\n",
    "        print('Training')\n",
    "        net.run(sess, mean_loss, X_train, y_train, 2, 64, 200, train_step, True)\n",
    "        print('Validation')\n",
    "        net.run(sess, mean_loss, X_val, y_val, 1, 64)\n",
    "except tf.errors.InvalidArgumentError:\n",
    "    print(\"no gpu found, please use Google Cloud if you want GPU acceleration\") "
   ]
  },
  {
   "cell_type": "code",
   "execution_count": null,
   "metadata": {},
   "outputs": [],
   "source": []
  }
 ],
 "metadata": {
  "kernelspec": {
   "display_name": "Python 3",
   "language": "python",
   "name": "python3"
  },
  "language_info": {
   "codemirror_mode": {
    "name": "ipython",
    "version": 3
   },
   "file_extension": ".py",
   "mimetype": "text/x-python",
   "name": "python",
   "nbconvert_exporter": "python",
   "pygments_lexer": "ipython3",
   "version": "3.7.4"
  }
 },
 "nbformat": 4,
 "nbformat_minor": 2
}
