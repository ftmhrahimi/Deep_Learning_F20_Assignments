{
  "nbformat": 4,
  "nbformat_minor": 0,
  "metadata": {
    "colab": {
      "name": "cifar-10.ipynb",
      "provenance": [],
      "authorship_tag": "ABX9TyM3flW43st8mNQ8LmD3Lmld",
      "include_colab_link": true
    },
    "kernelspec": {
      "name": "python3",
      "display_name": "Python 3"
    }
  },
  "cells": [
    {
      "cell_type": "markdown",
      "metadata": {
        "id": "view-in-github",
        "colab_type": "text"
      },
      "source": [
        "<a href=\"https://colab.research.google.com/github/ftmhrahimi/Deep_Learning_F20_Assignments/blob/master/Assignment_Set_2/Part1/Cifar_10(v2).ipynb\" target=\"_parent\"><img src=\"https://colab.research.google.com/assets/colab-badge.svg\" alt=\"Open In Colab\"/></a>"
      ]
    },
    {
      "cell_type": "code",
      "metadata": {
        "id": "3RwIIAI8fvXX"
      },
      "source": [
        "from tensorflow.keras.datasets import cifar10\n",
        "from tensorflow.keras.models import Sequential\n",
        "from tensorflow.keras.layers import Dense, Flatten, Conv2D, MaxPooling2D\n",
        "from tensorflow.keras.losses import sparse_categorical_crossentropy\n",
        "from tensorflow.keras.optimizers import Adam\n",
        "import matplotlib.pyplot as plt"
      ],
      "execution_count": null,
      "outputs": []
    },
    {
      "cell_type": "code",
      "metadata": {
        "id": "71sz7Xr2f-rb"
      },
      "source": [
        "# Model configuration\n",
        "batch_size = 50\n",
        "img_width, img_height, img_num_channels = 32, 32, 3\n",
        "loss_function = sparse_categorical_crossentropy\n",
        "no_classes = 10\n",
        "no_epochs = 10\n",
        "optimizer = Adam()\n",
        "validation_split = 0.2\n",
        "verbosity = 1"
      ],
      "execution_count": null,
      "outputs": []
    },
    {
      "cell_type": "code",
      "metadata": {
        "id": "Qv65N6pEgDie"
      },
      "source": [
        "# Load CIFAR-10 data\n",
        "(input_train, target_train), (input_test, target_test) = cifar10.load_data()"
      ],
      "execution_count": null,
      "outputs": []
    },
    {
      "cell_type": "code",
      "metadata": {
        "id": "kevedK9HgOKb"
      },
      "source": [
        "# Determine shape of the data\n",
        "input_shape = (img_width, img_height, img_num_channels)"
      ],
      "execution_count": null,
      "outputs": []
    },
    {
      "cell_type": "code",
      "metadata": {
        "id": "_-e1TmOEgTVs"
      },
      "source": [
        "# Parse numbers as floats\n",
        "input_train = input_train.astype('float32')\n",
        "input_test = input_test.astype('float32')\n",
        "\n",
        "# Normalize data\n",
        "input_train = input_train / 255\n",
        "input_test = input_test / 255"
      ],
      "execution_count": null,
      "outputs": []
    },
    {
      "cell_type": "markdown",
      "metadata": {
        "id": "KFRPv35IjMSi"
      },
      "source": [
        "## **First Model**"
      ]
    },
    {
      "cell_type": "code",
      "metadata": {
        "id": "UgELUfmDi7au",
        "outputId": "ce139d05-dc0b-46cf-8b9f-9e0f86a054fb",
        "colab": {
          "base_uri": "https://localhost:8080/"
        }
      },
      "source": [
        "# Create the model\n",
        "import keras\n",
        "model = Sequential()\n",
        "\n",
        "model.add(keras.Input(shape=input_shape))  \n",
        "model.add(Conv2D(32, 5, strides=2, activation=\"relu\"))\n",
        "model.add(Flatten())\n",
        "model.add(Dense(no_classes, activation='softmax'))\n",
        "model.summary()"
      ],
      "execution_count": null,
      "outputs": [
        {
          "output_type": "stream",
          "text": [
            "Model: \"sequential_29\"\n",
            "_________________________________________________________________\n",
            "Layer (type)                 Output Shape              Param #   \n",
            "=================================================================\n",
            "conv2d_25 (Conv2D)           (None, 14, 14, 32)        2432      \n",
            "_________________________________________________________________\n",
            "flatten_3 (Flatten)          (None, 6272)              0         \n",
            "_________________________________________________________________\n",
            "dense_28 (Dense)             (None, 10)                62730     \n",
            "=================================================================\n",
            "Total params: 65,162\n",
            "Trainable params: 65,162\n",
            "Non-trainable params: 0\n",
            "_________________________________________________________________\n"
          ],
          "name": "stdout"
        }
      ]
    },
    {
      "cell_type": "code",
      "metadata": {
        "id": "s_FNX0bAi-n7",
        "outputId": "0e7da995-674d-4796-c014-ae7a66965e4f",
        "colab": {
          "base_uri": "https://localhost:8080/"
        }
      },
      "source": [
        "# Compile the model\n",
        "model.compile(loss=loss_function,\n",
        "              optimizer=optimizer,\n",
        "              metrics=['accuracy'])\n",
        "\n",
        "# Fit data to model\n",
        "history = model.fit(input_train, target_train,\n",
        "            batch_size=batch_size,\n",
        "            epochs=20,\n",
        "            verbose=verbosity,\n",
        "            validation_split=validation_split)"
      ],
      "execution_count": null,
      "outputs": [
        {
          "output_type": "stream",
          "text": [
            "Epoch 1/20\n",
            "800/800 [==============================] - 9s 11ms/step - loss: 1.3716 - accuracy: 0.5245 - val_loss: 1.4684 - val_accuracy: 0.4853\n",
            "Epoch 2/20\n",
            "800/800 [==============================] - 9s 11ms/step - loss: 1.3592 - accuracy: 0.5293 - val_loss: 1.4574 - val_accuracy: 0.4934\n",
            "Epoch 3/20\n",
            "800/800 [==============================] - 9s 11ms/step - loss: 1.3375 - accuracy: 0.5368 - val_loss: 1.4227 - val_accuracy: 0.5056\n",
            "Epoch 4/20\n",
            "800/800 [==============================] - 9s 11ms/step - loss: 1.3136 - accuracy: 0.5436 - val_loss: 1.4155 - val_accuracy: 0.5052\n",
            "Epoch 5/20\n",
            "800/800 [==============================] - 9s 11ms/step - loss: 1.2924 - accuracy: 0.5522 - val_loss: 1.3919 - val_accuracy: 0.5137\n",
            "Epoch 6/20\n",
            "800/800 [==============================] - 9s 11ms/step - loss: 1.2725 - accuracy: 0.5585 - val_loss: 1.4116 - val_accuracy: 0.5101\n",
            "Epoch 7/20\n",
            "800/800 [==============================] - 9s 12ms/step - loss: 1.2570 - accuracy: 0.5660 - val_loss: 1.3881 - val_accuracy: 0.5171\n",
            "Epoch 8/20\n",
            "800/800 [==============================] - 9s 11ms/step - loss: 1.2433 - accuracy: 0.5703 - val_loss: 1.3747 - val_accuracy: 0.5176\n",
            "Epoch 9/20\n",
            "800/800 [==============================] - 9s 11ms/step - loss: 1.2363 - accuracy: 0.5731 - val_loss: 1.3676 - val_accuracy: 0.5296\n",
            "Epoch 10/20\n",
            "800/800 [==============================] - 9s 11ms/step - loss: 1.2256 - accuracy: 0.5767 - val_loss: 1.3656 - val_accuracy: 0.5204\n",
            "Epoch 11/20\n",
            "800/800 [==============================] - 9s 11ms/step - loss: 1.2167 - accuracy: 0.5800 - val_loss: 1.3702 - val_accuracy: 0.5198\n",
            "Epoch 12/20\n",
            "800/800 [==============================] - 9s 11ms/step - loss: 1.2072 - accuracy: 0.5854 - val_loss: 1.3579 - val_accuracy: 0.5297\n",
            "Epoch 13/20\n",
            "800/800 [==============================] - 9s 11ms/step - loss: 1.2026 - accuracy: 0.5843 - val_loss: 1.3623 - val_accuracy: 0.5301\n",
            "Epoch 14/20\n",
            "800/800 [==============================] - 9s 11ms/step - loss: 1.1979 - accuracy: 0.5864 - val_loss: 1.3564 - val_accuracy: 0.5345\n",
            "Epoch 15/20\n",
            "800/800 [==============================] - 9s 11ms/step - loss: 1.1878 - accuracy: 0.5943 - val_loss: 1.3674 - val_accuracy: 0.5299\n",
            "Epoch 16/20\n",
            "800/800 [==============================] - 9s 11ms/step - loss: 1.1860 - accuracy: 0.5906 - val_loss: 1.3518 - val_accuracy: 0.5327\n",
            "Epoch 17/20\n",
            "800/800 [==============================] - 9s 11ms/step - loss: 1.1821 - accuracy: 0.5925 - val_loss: 1.3433 - val_accuracy: 0.5335\n",
            "Epoch 18/20\n",
            "800/800 [==============================] - 9s 11ms/step - loss: 1.1774 - accuracy: 0.5949 - val_loss: 1.3688 - val_accuracy: 0.5232\n",
            "Epoch 19/20\n",
            "800/800 [==============================] - 9s 11ms/step - loss: 1.1750 - accuracy: 0.5969 - val_loss: 1.3512 - val_accuracy: 0.5363\n",
            "Epoch 20/20\n",
            "800/800 [==============================] - 9s 11ms/step - loss: 1.1669 - accuracy: 0.6000 - val_loss: 1.3586 - val_accuracy: 0.5309\n"
          ],
          "name": "stdout"
        }
      ]
    },
    {
      "cell_type": "code",
      "metadata": {
        "id": "1_nL1WdOjCzI",
        "outputId": "d169fab1-6f35-4681-e54a-0f9d30a1fa41",
        "colab": {
          "base_uri": "https://localhost:8080/",
          "height": 590
        }
      },
      "source": [
        "# Generate generalization metrics\n",
        "score = model.evaluate(input_test, target_test, verbose=0)\n",
        "print(f'Test loss: {score[0]} / Test accuracy: {score[1]}')\n",
        "\n",
        "# Visualize history\n",
        "# Plot history: Loss\n",
        "plt.plot(history.history['val_loss'])\n",
        "plt.title('Validation loss history')\n",
        "plt.ylabel('Loss value')\n",
        "plt.xlabel('No. epoch')\n",
        "plt.show()\n",
        "\n",
        "# Plot history: Accuracy\n",
        "plt.plot(history.history['val_accuracy'])\n",
        "plt.title('Validation accuracy history')\n",
        "plt.ylabel('Accuracy value (%)')\n",
        "plt.xlabel('No. epoch')\n",
        "plt.show()"
      ],
      "execution_count": null,
      "outputs": [
        {
          "output_type": "stream",
          "text": [
            "Test loss: 1.3624451160430908 / Test accuracy: 0.5295000076293945\n"
          ],
          "name": "stdout"
        },
        {
          "output_type": "display_data",
          "data": {
            "image/png": "[encoded data removed]",
            "text/plain": [
              "<Figure size 432x288 with 1 Axes>"
            ]
          },
          "metadata": {
            "tags": [],
            "needs_background": "light"
          }
        },
        {
          "output_type": "display_data",
          "data": {
            "image/png": "[encoded data removed]",
            "text/plain": [
              "<Figure size 432x288 with 1 Axes>"
            ]
          },
          "metadata": {
            "tags": [],
            "needs_background": "light"
          }
        }
      ]
    },
    {
      "cell_type": "markdown",
      "metadata": {
        "id": "hKiLJA-mjIdj"
      },
      "source": [
        "## **Second Model**"
      ]
    },
    {
      "cell_type": "code",
      "metadata": {
        "id": "7OgKsPiSgWyV",
        "outputId": "2e80b486-29f0-48b8-c9bb-beee3aba9257",
        "colab": {
          "base_uri": "https://localhost:8080/"
        }
      },
      "source": [
        "# Create the model\n",
        "model = Sequential()\n",
        "model.add(Conv2D(32, kernel_size=(3, 3), activation='relu', input_shape=input_shape))\n",
        "model.add(MaxPooling2D(pool_size=(2, 2)))\n",
        "model.add(Conv2D(64, kernel_size=(3, 3), activation='relu'))\n",
        "model.add(MaxPooling2D(pool_size=(2, 2)))\n",
        "model.add(Conv2D(128, kernel_size=(3, 3), activation='relu'))\n",
        "model.add(MaxPooling2D(pool_size=(2, 2)))\n",
        "model.add(Flatten())\n",
        "model.add(Dense(256, activation='relu'))\n",
        "model.add(Dense(128, activation='relu'))\n",
        "model.add(Dense(no_classes, activation='softmax'))\n",
        "model.summary()"
      ],
      "execution_count": null,
      "outputs": [
        {
          "output_type": "stream",
          "text": [
            "Model: \"sequential_24\"\n",
            "_________________________________________________________________\n",
            "Layer (type)                 Output Shape              Param #   \n",
            "=================================================================\n",
            "conv2d_18 (Conv2D)           (None, 30, 30, 32)        896       \n",
            "_________________________________________________________________\n",
            "max_pooling2d_11 (MaxPooling (None, 15, 15, 32)        0         \n",
            "_________________________________________________________________\n",
            "conv2d_19 (Conv2D)           (None, 13, 13, 64)        18496     \n",
            "_________________________________________________________________\n",
            "max_pooling2d_12 (MaxPooling (None, 6, 6, 64)          0         \n",
            "_________________________________________________________________\n",
            "conv2d_20 (Conv2D)           (None, 4, 4, 128)         73856     \n",
            "_________________________________________________________________\n",
            "max_pooling2d_13 (MaxPooling (None, 2, 2, 128)         0         \n",
            "_________________________________________________________________\n",
            "flatten_2 (Flatten)          (None, 512)               0         \n",
            "_________________________________________________________________\n",
            "dense_19 (Dense)             (None, 256)               131328    \n",
            "_________________________________________________________________\n",
            "dense_20 (Dense)             (None, 128)               32896     \n",
            "_________________________________________________________________\n",
            "dense_21 (Dense)             (None, 10)                1290      \n",
            "=================================================================\n",
            "Total params: 258,762\n",
            "Trainable params: 258,762\n",
            "Non-trainable params: 0\n",
            "_________________________________________________________________\n"
          ],
          "name": "stdout"
        }
      ]
    },
    {
      "cell_type": "code",
      "metadata": {
        "id": "qGPKlRkIgb74",
        "outputId": "8b26c574-c8c5-404c-d96f-c5c3a9708afb",
        "colab": {
          "base_uri": "https://localhost:8080/"
        }
      },
      "source": [
        "# Compile the model\n",
        "model.compile(loss=loss_function,\n",
        "              optimizer=optimizer,\n",
        "              metrics=['accuracy'])\n",
        "\n",
        "# Fit data to model\n",
        "history = model.fit(input_train, target_train,\n",
        "            batch_size=batch_size,\n",
        "            epochs=no_epochs,\n",
        "            verbose=verbosity,\n",
        "            validation_split=validation_split)"
      ],
      "execution_count": null,
      "outputs": [
        {
          "output_type": "stream",
          "text": [
            "Epoch 1/10\n",
            "800/800 [==============================] - 56s 70ms/step - loss: 1.0534 - accuracy: 0.6272 - val_loss: 1.0524 - val_accuracy: 0.6291\n",
            "Epoch 2/10\n",
            "800/800 [==============================] - 56s 70ms/step - loss: 0.9356 - accuracy: 0.6703 - val_loss: 0.9641 - val_accuracy: 0.6606\n",
            "Epoch 3/10\n",
            "800/800 [==============================] - 57s 71ms/step - loss: 0.8311 - accuracy: 0.7073 - val_loss: 0.9630 - val_accuracy: 0.6674\n",
            "Epoch 4/10\n",
            "800/800 [==============================] - 57s 71ms/step - loss: 0.7521 - accuracy: 0.7331 - val_loss: 0.9630 - val_accuracy: 0.6723\n",
            "Epoch 5/10\n",
            "800/800 [==============================] - 56s 71ms/step - loss: 0.6812 - accuracy: 0.7595 - val_loss: 0.9086 - val_accuracy: 0.6984\n",
            "Epoch 6/10\n",
            "800/800 [==============================] - 56s 70ms/step - loss: 0.6194 - accuracy: 0.7834 - val_loss: 0.9165 - val_accuracy: 0.6989\n",
            "Epoch 7/10\n",
            "800/800 [==============================] - 56s 70ms/step - loss: 0.5642 - accuracy: 0.8016 - val_loss: 0.9236 - val_accuracy: 0.6984\n",
            "Epoch 8/10\n",
            "800/800 [==============================] - 56s 71ms/step - loss: 0.5135 - accuracy: 0.8188 - val_loss: 1.0210 - val_accuracy: 0.6883\n",
            "Epoch 9/10\n",
            "800/800 [==============================] - 56s 70ms/step - loss: 0.4608 - accuracy: 0.8360 - val_loss: 0.9607 - val_accuracy: 0.7119\n",
            "Epoch 10/10\n",
            "800/800 [==============================] - 57s 71ms/step - loss: 0.4099 - accuracy: 0.8553 - val_loss: 1.0618 - val_accuracy: 0.6975\n"
          ],
          "name": "stdout"
        }
      ]
    },
    {
      "cell_type": "code",
      "metadata": {
        "id": "0N2Il1KDggYg",
        "outputId": "b86c8a40-dd77-4e00-e120-0733e349e6c5",
        "colab": {
          "base_uri": "https://localhost:8080/",
          "height": 590
        }
      },
      "source": [
        "# Generate generalization metrics\n",
        "score = model.evaluate(input_test, target_test, verbose=0)\n",
        "print(f'Test loss: {score[0]} / Test accuracy: {score[1]}')\n",
        "\n",
        "# Visualize history\n",
        "# Plot history: Loss\n",
        "plt.plot(history.history['val_loss'])\n",
        "plt.title('Validation loss history')\n",
        "plt.ylabel('Loss value')\n",
        "plt.xlabel('No. epoch')\n",
        "plt.show()\n",
        "\n",
        "# Plot history: Accuracy\n",
        "plt.plot(history.history['val_accuracy'])\n",
        "plt.title('Validation accuracy history')\n",
        "plt.ylabel('Accuracy value (%)')\n",
        "plt.xlabel('No. epoch')\n",
        "plt.show()"
      ],
      "execution_count": null,
      "outputs": [
        {
          "output_type": "stream",
          "text": [
            "Test loss: 1.0525051355361938 / Test accuracy: 0.6919000148773193\n"
          ],
          "name": "stdout"
        },
        {
          "output_type": "display_data",
          "data": {
            "image/png": "[encoded data removed]",
            "text/plain": [
              "<Figure size 432x288 with 1 Axes>"
            ]
          },
          "metadata": {
            "tags": [],
            "needs_background": "light"
          }
        },
        {
          "output_type": "display_data",
          "data": {
            "image/png": "[encoded data removed]",
            "text/plain": [
              "<Figure size 432x288 with 1 Axes>"
            ]
          },
          "metadata": {
            "tags": [],
            "needs_background": "light"
          }
        }
      ]
    }
  ]
}