{
  "nbformat": 4,
  "nbformat_minor": 0,
  "metadata": {
    "colab": {
      "name": "Cifar_100.ipynb",
      "provenance": [],
      "authorship_tag": "ABX9TyOBgwNL0fMPqJ3e3DPlkhWX",
      "include_colab_link": true
    },
    "kernelspec": {
      "name": "python3",
      "display_name": "Python 3"
    }
  },
  "cells": [
    {
      "cell_type": "markdown",
      "metadata": {
        "id": "view-in-github",
        "colab_type": "text"
      },
      "source": [
        "<a href=\"https://colab.research.google.com/github/ftmhrahimi/Deep_Learning_F20_Assignments/blob/master/Assignment_Set_2/Part1/Cifar_100.ipynb\" target=\"_parent\"><img src=\"https://colab.research.google.com/assets/colab-badge.svg\" alt=\"Open In Colab\"/></a>"
      ]
    },
    {
      "cell_type": "code",
      "metadata": {
        "id": "rSEe74CGhH_F"
      },
      "source": [
        "from tensorflow.keras.datasets import cifar100\n",
        "from tensorflow.keras.models import Sequential\n",
        "from tensorflow.keras.layers import Dense, Flatten, Conv2D, MaxPooling2D\n",
        "from tensorflow.keras.losses import sparse_categorical_crossentropy\n",
        "from tensorflow.keras.optimizers import Adam\n",
        "import matplotlib.pyplot as plt"
      ],
      "execution_count": 1,
      "outputs": []
    },
    {
      "cell_type": "code",
      "metadata": {
        "id": "UAvNjkLbhN_2"
      },
      "source": [
        "# Model configuration\n",
        "batch_size = 50\n",
        "img_width, img_height, img_num_channels = 32, 32, 3\n",
        "loss_function = sparse_categorical_crossentropy\n",
        "no_classes = 100\n",
        "no_epochs = 10\n",
        "optimizer = Adam()\n",
        "validation_split = 0.2\n",
        "verbosity = 1"
      ],
      "execution_count": 3,
      "outputs": []
    },
    {
      "cell_type": "code",
      "metadata": {
        "id": "EagfcvMmhkZD"
      },
      "source": [
        "# Load CIFAR-100 data\n",
        "(input_train, target_train), (input_test, target_test) = cifar100.load_data()\n",
        "\n",
        "# Determine shape of the data\n",
        "input_shape = (img_width, img_height, img_num_channels)\n",
        "\n",
        "# Parse numbers as floats\n",
        "input_train = input_train.astype('float32')\n",
        "input_test = input_test.astype('float32')\n",
        "\n",
        "# Normalize data\n",
        "input_train = input_train / 255\n",
        "input_test = input_test / 255"
      ],
      "execution_count": 5,
      "outputs": []
    },
    {
      "cell_type": "markdown",
      "metadata": {
        "id": "InfbRGQ4imeY"
      },
      "source": [
        "### **First Model**"
      ]
    },
    {
      "cell_type": "code",
      "metadata": {
        "id": "X5jtGvmYicNS",
        "outputId": "9b360b74-84ca-42c4-da6a-bdbec3177a8d",
        "colab": {
          "base_uri": "https://localhost:8080/"
        }
      },
      "source": [
        "# Create the model\n",
        "import keras\n",
        "model = Sequential()\n",
        "\n",
        "model.add(keras.Input(shape=input_shape))  \n",
        "model.add(Conv2D(32, 5, strides=2, activation=\"relu\"))\n",
        "model.add(Flatten())\n",
        "model.add(Dense(no_classes, activation='softmax'))\n",
        "model.summary()"
      ],
      "execution_count": 36,
      "outputs": [
        {
          "output_type": "stream",
          "text": [
            "Model: \"sequential_20\"\n",
            "_________________________________________________________________\n",
            "Layer (type)                 Output Shape              Param #   \n",
            "=================================================================\n",
            "conv2d_22 (Conv2D)           (None, 14, 14, 32)        2432      \n",
            "_________________________________________________________________\n",
            "flatten_20 (Flatten)         (None, 6272)              0         \n",
            "_________________________________________________________________\n",
            "dense_63 (Dense)             (None, 100)               627300    \n",
            "=================================================================\n",
            "Total params: 629,732\n",
            "Trainable params: 629,732\n",
            "Non-trainable params: 0\n",
            "_________________________________________________________________\n"
          ],
          "name": "stdout"
        }
      ]
    },
    {
      "cell_type": "code",
      "metadata": {
        "id": "kUKTzoYGiiv_",
        "outputId": "5a2195eb-9546-4bac-a806-2d58e5b06893",
        "colab": {
          "base_uri": "https://localhost:8080/"
        }
      },
      "source": [
        "# Compile the model\n",
        "model.compile(loss=loss_function,\n",
        "              optimizer=optimizer,\n",
        "              metrics=['accuracy'])\n",
        "\n",
        "# Fit data to model\n",
        "history = model.fit(input_train, target_train,\n",
        "            batch_size=batch_size,\n",
        "            epochs=20,\n",
        "            verbose=verbosity,\n",
        "            validation_split=validation_split)\n",
        "\n",
        "# Generate generalization metrics\n",
        "score = model.evaluate(input_test, target_test, verbose=0)\n",
        "print(f'Test loss: {score[0]} / Test accuracy: {score[1]}')"
      ],
      "execution_count": 41,
      "outputs": [
        {
          "output_type": "stream",
          "text": [
            "Epoch 1/20\n",
            "800/800 [==============================] - 13s 17ms/step - loss: 2.0613 - accuracy: 0.4877 - val_loss: 4.1973 - val_accuracy: 0.1893\n",
            "Epoch 2/20\n",
            "800/800 [==============================] - 13s 16ms/step - loss: 2.0534 - accuracy: 0.4867 - val_loss: 4.2983 - val_accuracy: 0.1903\n",
            "Epoch 3/20\n",
            "800/800 [==============================] - 13s 16ms/step - loss: 2.0428 - accuracy: 0.4859 - val_loss: 4.3463 - val_accuracy: 0.1897\n",
            "Epoch 4/20\n",
            "800/800 [==============================] - 14s 17ms/step - loss: 2.0244 - accuracy: 0.4897 - val_loss: 4.3460 - val_accuracy: 0.1840\n",
            "Epoch 5/20\n",
            "800/800 [==============================] - 14s 17ms/step - loss: 2.0034 - accuracy: 0.4960 - val_loss: 4.4512 - val_accuracy: 0.1849\n",
            "Epoch 6/20\n",
            "800/800 [==============================] - 13s 16ms/step - loss: 1.9879 - accuracy: 0.4989 - val_loss: 4.4061 - val_accuracy: 0.1822\n",
            "Epoch 7/20\n",
            "800/800 [==============================] - 13s 16ms/step - loss: 1.9668 - accuracy: 0.5053 - val_loss: 4.4925 - val_accuracy: 0.1826\n",
            "Epoch 8/20\n",
            "800/800 [==============================] - 13s 16ms/step - loss: 1.9534 - accuracy: 0.5070 - val_loss: 4.5190 - val_accuracy: 0.1802\n",
            "Epoch 9/20\n",
            "800/800 [==============================] - 13s 16ms/step - loss: 1.9355 - accuracy: 0.5127 - val_loss: 4.5936 - val_accuracy: 0.1817\n",
            "Epoch 10/20\n",
            "800/800 [==============================] - 13s 16ms/step - loss: 1.9189 - accuracy: 0.5152 - val_loss: 4.6236 - val_accuracy: 0.1805\n",
            "Epoch 11/20\n",
            "800/800 [==============================] - 13s 16ms/step - loss: 1.9024 - accuracy: 0.5211 - val_loss: 4.6566 - val_accuracy: 0.1792\n",
            "Epoch 12/20\n",
            "800/800 [==============================] - 13s 16ms/step - loss: 1.8893 - accuracy: 0.5233 - val_loss: 4.6862 - val_accuracy: 0.1793\n",
            "Epoch 13/20\n",
            "800/800 [==============================] - 13s 16ms/step - loss: 1.8753 - accuracy: 0.5242 - val_loss: 4.7635 - val_accuracy: 0.1782\n",
            "Epoch 14/20\n",
            "800/800 [==============================] - 13s 16ms/step - loss: 1.8598 - accuracy: 0.5307 - val_loss: 4.8240 - val_accuracy: 0.1765\n",
            "Epoch 15/20\n",
            "800/800 [==============================] - 13s 16ms/step - loss: 1.8490 - accuracy: 0.5315 - val_loss: 4.8239 - val_accuracy: 0.1778\n",
            "Epoch 16/20\n",
            "800/800 [==============================] - 13s 16ms/step - loss: 1.8376 - accuracy: 0.5337 - val_loss: 4.9095 - val_accuracy: 0.1752\n",
            "Epoch 17/20\n",
            "800/800 [==============================] - 13s 16ms/step - loss: 1.8230 - accuracy: 0.5360 - val_loss: 4.9493 - val_accuracy: 0.1738\n",
            "Epoch 18/20\n",
            "800/800 [==============================] - 13s 16ms/step - loss: 1.8089 - accuracy: 0.5417 - val_loss: 4.9606 - val_accuracy: 0.1720\n",
            "Epoch 19/20\n",
            "800/800 [==============================] - 13s 16ms/step - loss: 1.8002 - accuracy: 0.5436 - val_loss: 5.0400 - val_accuracy: 0.1714\n",
            "Epoch 20/20\n",
            "800/800 [==============================] - 13s 16ms/step - loss: 1.7905 - accuracy: 0.5454 - val_loss: 5.0246 - val_accuracy: 0.1716\n",
            "Test loss: 5.039884567260742 / Test accuracy: 0.17560000717639923\n"
          ],
          "name": "stdout"
        }
      ]
    },
    {
      "cell_type": "code",
      "metadata": {
        "id": "moINz0j8iyu9",
        "outputId": "fd757a1b-8591-449f-9a78-212825431481",
        "colab": {
          "base_uri": "https://localhost:8080/",
          "height": 573
        }
      },
      "source": [
        "# Visualize history\n",
        "# Plot history: Loss\n",
        "plt.plot(history.history['val_loss'])\n",
        "plt.title('Validation loss history')\n",
        "plt.ylabel('Loss value')\n",
        "plt.xlabel('No. epoch')\n",
        "plt.show()\n",
        "\n",
        "# Plot history: Accuracy\n",
        "plt.plot(history.history['val_accuracy'])\n",
        "plt.title('Validation accuracy history')\n",
        "plt.ylabel('Accuracy value (%)')\n",
        "plt.xlabel('No. epoch')\n",
        "plt.show()"
      ],
      "execution_count": 42,
      "outputs": [
        {
          "output_type": "display_data",
          "data": {
            "image/png": "[encoded data removed]",
            "text/plain": [
              "<Figure size 432x288 with 1 Axes>"
            ]
          },
          "metadata": {
            "tags": [],
            "needs_background": "light"
          }
        },
        {
          "output_type": "display_data",
          "data": {
            "image/png": "[encoded data removed]",
            "text/plain": [
              "<Figure size 432x288 with 1 Axes>"
            ]
          },
          "metadata": {
            "tags": [],
            "needs_background": "light"
          }
        }
      ]
    },
    {
      "cell_type": "markdown",
      "metadata": {
        "id": "OfHw-o5HitKX"
      },
      "source": [
        "## **Second Model**"
      ]
    },
    {
      "cell_type": "code",
      "metadata": {
        "id": "Bz0CjEl3hwzX",
        "outputId": "390e54fb-55c0-4332-d154-69c1106b08b2",
        "colab": {
          "base_uri": "https://localhost:8080/"
        }
      },
      "source": [
        "# Create the model\n",
        "model = Sequential()\n",
        "model.add(Conv2D(32, kernel_size=(3, 3), activation='relu', input_shape=input_shape))\n",
        "model.add(MaxPooling2D(pool_size=(2, 2)))\n",
        "model.add(Conv2D(64, kernel_size=(3, 3), activation='relu'))\n",
        "model.add(MaxPooling2D(pool_size=(2, 2)))\n",
        "model.add(Conv2D(128, kernel_size=(3, 3), activation='relu'))\n",
        "model.add(MaxPooling2D(pool_size=(2, 2)))\n",
        "model.add(Flatten())\n",
        "model.add(Dense(256, activation='relu'))\n",
        "model.add(Dense(128, activation='relu'))\n",
        "model.add(Dense(no_classes, activation='softmax'))\n",
        "model.summary()"
      ],
      "execution_count": 9,
      "outputs": [
        {
          "output_type": "stream",
          "text": [
            "Model: \"sequential_1\"\n",
            "_________________________________________________________________\n",
            "Layer (type)                 Output Shape              Param #   \n",
            "=================================================================\n",
            "conv2d_3 (Conv2D)            (None, 30, 30, 32)        896       \n",
            "_________________________________________________________________\n",
            "max_pooling2d_3 (MaxPooling2 (None, 15, 15, 32)        0         \n",
            "_________________________________________________________________\n",
            "conv2d_4 (Conv2D)            (None, 13, 13, 64)        18496     \n",
            "_________________________________________________________________\n",
            "max_pooling2d_4 (MaxPooling2 (None, 6, 6, 64)          0         \n",
            "_________________________________________________________________\n",
            "conv2d_5 (Conv2D)            (None, 4, 4, 128)         73856     \n",
            "_________________________________________________________________\n",
            "max_pooling2d_5 (MaxPooling2 (None, 2, 2, 128)         0         \n",
            "_________________________________________________________________\n",
            "flatten_1 (Flatten)          (None, 512)               0         \n",
            "_________________________________________________________________\n",
            "dense_3 (Dense)              (None, 256)               131328    \n",
            "_________________________________________________________________\n",
            "dense_4 (Dense)              (None, 128)               32896     \n",
            "_________________________________________________________________\n",
            "dense_5 (Dense)              (None, 100)               12900     \n",
            "=================================================================\n",
            "Total params: 270,372\n",
            "Trainable params: 270,372\n",
            "Non-trainable params: 0\n",
            "_________________________________________________________________\n"
          ],
          "name": "stdout"
        }
      ]
    },
    {
      "cell_type": "code",
      "metadata": {
        "id": "n8O5xZ0mh48g",
        "outputId": "72206e4e-dacd-4da3-f757-304f21a25e3c",
        "colab": {
          "base_uri": "https://localhost:8080/"
        }
      },
      "source": [
        "# Compile the model\n",
        "model.compile(loss=loss_function,\n",
        "              optimizer=optimizer,\n",
        "              metrics=['accuracy'])\n",
        "\n",
        "# Fit data to model\n",
        "history = model.fit(input_train, target_train,\n",
        "            batch_size=batch_size,\n",
        "            epochs=no_epochs,\n",
        "            verbose=verbosity,\n",
        "            validation_split=validation_split)\n",
        "\n",
        "# Generate generalization metrics\n",
        "score = model.evaluate(input_test, target_test, verbose=0)\n",
        "print(f'Test loss: {score[0]} / Test accuracy: {score[1]}')"
      ],
      "execution_count": 7,
      "outputs": [
        {
          "output_type": "stream",
          "text": [
            "Epoch 1/10\n",
            "800/800 [==============================] - 59s 74ms/step - loss: 4.0594 - accuracy: 0.0741 - val_loss: 3.7089 - val_accuracy: 0.1249\n",
            "Epoch 2/10\n",
            "800/800 [==============================] - 55s 69ms/step - loss: 3.4074 - accuracy: 0.1752 - val_loss: 3.2757 - val_accuracy: 0.2061\n",
            "Epoch 3/10\n",
            "800/800 [==============================] - 55s 69ms/step - loss: 3.0582 - accuracy: 0.2402 - val_loss: 3.0136 - val_accuracy: 0.2560\n",
            "Epoch 4/10\n",
            "800/800 [==============================] - 55s 68ms/step - loss: 2.8222 - accuracy: 0.2887 - val_loss: 2.8895 - val_accuracy: 0.2810\n",
            "Epoch 5/10\n",
            "800/800 [==============================] - 55s 68ms/step - loss: 2.6331 - accuracy: 0.3256 - val_loss: 2.7976 - val_accuracy: 0.3063\n",
            "Epoch 6/10\n",
            "800/800 [==============================] - 59s 73ms/step - loss: 2.4776 - accuracy: 0.3598 - val_loss: 2.7017 - val_accuracy: 0.3239\n",
            "Epoch 7/10\n",
            "800/800 [==============================] - 55s 68ms/step - loss: 2.3378 - accuracy: 0.3862 - val_loss: 2.6222 - val_accuracy: 0.3416\n",
            "Epoch 8/10\n",
            "800/800 [==============================] - 55s 68ms/step - loss: 2.2020 - accuracy: 0.4184 - val_loss: 2.5728 - val_accuracy: 0.3524\n",
            "Epoch 9/10\n",
            "800/800 [==============================] - 55s 68ms/step - loss: 2.0767 - accuracy: 0.4437 - val_loss: 2.6745 - val_accuracy: 0.3368\n",
            "Epoch 10/10\n",
            "800/800 [==============================] - 55s 68ms/step - loss: 1.9633 - accuracy: 0.4688 - val_loss: 2.6013 - val_accuracy: 0.3618\n",
            "Test loss: 2.5812854766845703 / Test accuracy: 0.36410000920295715\n"
          ],
          "name": "stdout"
        }
      ]
    },
    {
      "cell_type": "code",
      "metadata": {
        "id": "ayv-jUnjgxTh",
        "outputId": "8e381122-534a-4edf-dc43-d37cb35b049b",
        "colab": {
          "base_uri": "https://localhost:8080/",
          "height": 573
        }
      },
      "source": [
        "# Visualize history\n",
        "# Plot history: Loss\n",
        "plt.plot(history.history['val_loss'])\n",
        "plt.title('Validation loss history')\n",
        "plt.ylabel('Loss value')\n",
        "plt.xlabel('No. epoch')\n",
        "plt.show()\n",
        "\n",
        "# Plot history: Accuracy\n",
        "plt.plot(history.history['val_accuracy'])\n",
        "plt.title('Validation accuracy history')\n",
        "plt.ylabel('Accuracy value (%)')\n",
        "plt.xlabel('No. epoch')\n",
        "plt.show()"
      ],
      "execution_count": 8,
      "outputs": [
        {
          "output_type": "display_data",
          "data": {
            "image/png": "[encoded data removed]",
            "text/plain": [
              "<Figure size 432x288 with 1 Axes>"
            ]
          },
          "metadata": {
            "tags": [],
            "needs_background": "light"
          }
        },
        {
          "output_type": "display_data",
          "data": {
            "image/png": "[encoded data removed]",
            "text/plain": [
              "<Figure size 432x288 with 1 Axes>"
            ]
          },
          "metadata": {
            "tags": [],
            "needs_background": "light"
          }
        }
      ]
    }
  ]
}