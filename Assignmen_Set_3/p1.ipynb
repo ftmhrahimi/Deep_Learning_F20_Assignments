{
  "nbformat": 4,
  "nbformat_minor": 0,
  "metadata": {
    "colab": {
      "name": "Untitled3.ipynb",
      "provenance": [],
      "authorship_tag": "ABX9TyNGeLYP67SL8yOVRaTqImsP",
      "include_colab_link": true
    },
    "kernelspec": {
      "name": "python3",
      "display_name": "Python 3"
    },
    "accelerator": "GPU"
  },
  "cells": [
    {
      "cell_type": "markdown",
      "metadata": {
        "id": "view-in-github",
        "colab_type": "text"
      },
      "source": [
        "<a href=\"https://colab.research.google.com/github/ftmhrahimi/Deep_Learning_F20_Assignments/blob/master/Assignmen_Set_3/p1.ipynb\" target=\"_parent\"><img src=\"https://colab.research.google.com/assets/colab-badge.svg\" alt=\"Open In Colab\"/></a>"
      ]
    },
    {
      "cell_type": "markdown",
      "metadata": {
        "id": "fULfF5k02_d3"
      },
      "source": [
        "# **Import libraries**"
      ]
    },
    {
      "cell_type": "code",
      "metadata": {
        "id": "lSa5n26if-47"
      },
      "source": [
        "import torch\n",
        "import numpy as np\n",
        "import matplotlib.pyplot as plt\n",
        "from torch.utils import data\n",
        "from torchvision import datasets, transforms"
      ],
      "execution_count": 78,
      "outputs": []
    },
    {
      "cell_type": "markdown",
      "metadata": {
        "id": "CTUSoyrI3Rsa"
      },
      "source": [
        "# **Tensor conversion, resizing, and normalization of the dataset**"
      ]
    },
    {
      "cell_type": "code",
      "metadata": {
        "id": "pov1vDlZnUPw"
      },
      "source": [
        "transform = transforms.Compose([transforms.ToTensor(),\n",
        "                                transforms.Normalize((0.5, 0.5, 0.5), (0.5, 0.5, 0.5)),\n",
        "                                transforms.Resize\n",
        "                                ])"
      ],
      "execution_count": 70,
      "outputs": []
    },
    {
      "cell_type": "markdown",
      "metadata": {
        "id": "3HusyCUi3rrR"
      },
      "source": [
        "#**Download the data by Torchvision** "
      ]
    },
    {
      "cell_type": "code",
      "metadata": {
        "id": "glgPRNU6kVmG"
      },
      "source": [
        "df = datasets.FashionMNIST('data/', download=True, transform=transform)"
      ],
      "execution_count": 83,
      "outputs": []
    },
    {
      "cell_type": "markdown",
      "metadata": {
        "id": "_boLZxs_3eLs"
      },
      "source": [
        "# **Split the data into two parts (training and test with a ratio of 70/30)**"
      ]
    },
    {
      "cell_type": "code",
      "metadata": {
        "id": "oh1F9icgp2ux"
      },
      "source": [
        "train_dataset, test_dataset = torch.utils.data.dataset.random_split(df, [42000 ,18000])"
      ],
      "execution_count": 87,
      "outputs": []
    },
    {
      "cell_type": "code",
      "metadata": {
        "id": "dxPlj1SznOwI"
      },
      "source": [
        "train_loader = torch.utils.data.DataLoader(train_dataset,batch_size=64,shuffle=True)\n",
        "test_loader = torch.utils.data.DataLoader(test_dataset,batch_size=64,shuffle=True)"
      ],
      "execution_count": 88,
      "outputs": []
    },
    {
      "cell_type": "markdown",
      "metadata": {
        "id": "vWIesif54Xae"
      },
      "source": [
        "#Examine a sample"
      ]
    },
    {
      "cell_type": "code",
      "metadata": {
        "id": "iF7czVMfdgxb",
        "outputId": "4542605c-dd68-431b-e888-b673dfbf0ff3",
        "colab": {
          "base_uri": "https://localhost:8080/",
          "height": 68
        }
      },
      "source": [
        "\n",
        "dataiter = iter(train_loader)\n",
        "(images , labels)=dataiter.next()\n",
        "print(type(images))\n",
        "print(images.shape)\n",
        "print(labels.shape)"
      ],
      "execution_count": 89,
      "outputs": [
        {
          "output_type": "stream",
          "text": [
            "<class 'torch.Tensor'>\n",
            "torch.Size([64, 1, 28, 28])\n",
            "torch.Size([64])\n"
          ],
          "name": "stdout"
        }
      ]
    },
    {
      "cell_type": "code",
      "metadata": {
        "id": "YzKMOXjQw1cs",
        "outputId": "27e976e4-2434-47b2-b0fd-6fa65003b01c",
        "colab": {
          "base_uri": "https://localhost:8080/",
          "height": 282
        }
      },
      "source": [
        "plt.imshow(images[1].numpy().squeeze(), cmap = 'Greys_r')"
      ],
      "execution_count": 90,
      "outputs": [
        {
          "output_type": "execute_result",
          "data": {
            "text/plain": [
              "<matplotlib.image.AxesImage at 0x7f2d591081d0>"
            ]
          },
          "metadata": {
            "tags": []
          },
          "execution_count": 90
        },
        {
          "output_type": "display_data",
          "data": {
            "image/png": "[encoded data removed]",
            "text/plain": [
              "<Figure size 432x288 with 1 Axes>"
            ]
          },
          "metadata": {
            "tags": [],
            "needs_background": "light"
          }
        }
      ]
    },
    {
      "cell_type": "markdown",
      "metadata": {
        "id": "vjqwLJsw24Gm"
      },
      "source": [
        "# **nn.Sequential**"
      ]
    },
    {
      "cell_type": "code",
      "metadata": {
        "id": "25emw5jPLUxw",
        "outputId": "5bcbc45d-1baa-4593-dc37-835466b9e067",
        "colab": {
          "base_uri": "https://localhost:8080/",
          "height": 153
        }
      },
      "source": [
        "# Define the network architecture\n",
        "from torch import nn, optim\n",
        "import torch.nn.functional as F\n",
        "\n",
        "model = nn.Sequential(nn.Linear(784, 265),\n",
        "                      \n",
        "                      nn.ReLU(),\n",
        "\n",
        "                      nn.Sigmoid(),\n",
        "\n",
        "                      \n",
        "                      nn.Softmax(),\n",
        "\n",
        "                      nn.Dropout(0.2),\n",
        "\n",
        "                      nn.LogSoftmax(dim = 1)\n",
        "                     )\n",
        "\n",
        "model=model.to(\"cuda\")\n",
        "                \n",
        "print(model)\n"
      ],
      "execution_count": 1,
      "outputs": [
        {
          "output_type": "stream",
          "text": [
            "Sequential(\n",
            "  (0): Linear(in_features=784, out_features=265, bias=True)\n",
            "  (1): ReLU()\n",
            "  (2): Sigmoid()\n",
            "  (3): Softmax(dim=None)\n",
            "  (4): Dropout(p=0.2, inplace=False)\n",
            "  (5): LogSoftmax(dim=1)\n",
            ")\n"
          ],
          "name": "stdout"
        }
      ]
    },
    {
      "cell_type": "code",
      "metadata": {
        "id": "Jq1dhpVo50qq",
        "outputId": "70f3f9ef-5bbd-4723-e1fc-917ee501c310",
        "colab": {
          "base_uri": "https://localhost:8080/",
          "height": 581
        }
      },
      "source": [
        "# Define the loss\n",
        "criterion = nn.NLLLoss()\n",
        "\n",
        "# Define the optimizer\n",
        "optimizer = optim.Adam(model.parameters(), lr = 0.002)\n",
        "\n",
        "# Define the epochs\n",
        "epochs = 30\n",
        "\n",
        "train_losses, test_losses = [], []\n",
        "\n",
        "for e in range(epochs):\n",
        "  running_loss = 0\n",
        "  for images, labels in train_loader:\n",
        "    # Flatten Fashion-MNIST images into a 784 long vector\n",
        "    images = images.view(images.shape[0], -1)\n",
        "    \n",
        "    # Training pass\n",
        "    optimizer.zero_grad()\n",
        "    \n",
        "    output = model.forward(images)\n",
        "    loss = criterion(output, labels)\n",
        "    loss.backward()\n",
        "    optimizer.step()\n",
        "    \n",
        "    running_loss += loss.item()\n",
        "  else:\n",
        "    test_loss = 0\n",
        "    accuracy = 0\n",
        "    \n",
        "    # Turn off gradients for validation, saves memory and computation\n",
        "    with torch.no_grad():\n",
        "      # Set the model to evaluation mode\n",
        "      model.eval()\n",
        "      \n",
        "      # Validation pass\n",
        "      for images, labels in test_loader:\n",
        "        images = images.view(images.shape[0], -1)\n",
        "        log_ps = model(images)\n",
        "        test_loss += criterion(log_ps, labels)\n",
        "        \n",
        "        ps = torch.exp(log_ps)\n",
        "        top_p, top_class = ps.topk(1, dim = 1)\n",
        "        equals = top_class == labels.view(*top_class.shape)\n",
        "        accuracy += torch.mean(equals.type(torch.FloatTensor))\n",
        "    \n",
        "    model.train()\n",
        "    train_losses.append(running_loss/len(train_loader))\n",
        "    test_losses.append(test_loss/len(test_loader))\n",
        "    \n",
        "    print(\"Epoch: {}/{}..\".format(e+1, epochs),\n",
        "          \"Training loss: {:.3f}..\".format(running_loss/len(train_loader)),\n",
        "          \"Test loss: {:.3f}..\".format(test_loss/len(test_loader)),\n",
        "          \"Test Accuracy: {:.3f}\".format(accuracy/len(test_loader)))"
      ],
      "execution_count": 108,
      "outputs": [
        {
          "output_type": "stream",
          "text": [
            "/usr/local/lib/python3.6/dist-packages/torch/nn/modules/container.py:117: UserWarning: Implicit dimension choice for softmax has been deprecated. Change the call to include dim=X as an argument.\n",
            "  input = module(input)\n"
          ],
          "name": "stderr"
        },
        {
          "output_type": "stream",
          "text": [
            "Epoch: 1/30.. Training loss: 5.578.. Test loss: 5.578.. Test Accuracy: 0.232\n",
            "Epoch: 2/30.. Training loss: 5.578.. Test loss: 5.578.. Test Accuracy: 0.225\n",
            "Epoch: 3/30.. Training loss: 5.578.. Test loss: 5.578.. Test Accuracy: 0.221\n",
            "Epoch: 4/30.. Training loss: 5.578.. Test loss: 5.578.. Test Accuracy: 0.221\n",
            "Epoch: 5/30.. Training loss: 5.578.. Test loss: 5.578.. Test Accuracy: 0.246\n",
            "Epoch: 6/30.. Training loss: 5.578.. Test loss: 5.578.. Test Accuracy: 0.268\n",
            "Epoch: 7/30.. Training loss: 5.578.. Test loss: 5.578.. Test Accuracy: 0.244\n",
            "Epoch: 8/30.. Training loss: 5.578.. Test loss: 5.578.. Test Accuracy: 0.319\n",
            "Epoch: 9/30.. Training loss: 5.578.. Test loss: 5.578.. Test Accuracy: 0.293\n",
            "Epoch: 10/30.. Training loss: 5.578.. Test loss: 5.578.. Test Accuracy: 0.311\n",
            "Epoch: 11/30.. Training loss: 5.578.. Test loss: 5.578.. Test Accuracy: 0.316\n",
            "Epoch: 12/30.. Training loss: 5.578.. Test loss: 5.578.. Test Accuracy: 0.322\n",
            "Epoch: 13/30.. Training loss: 5.578.. Test loss: 5.578.. Test Accuracy: 0.325\n",
            "Epoch: 14/30.. Training loss: 5.578.. Test loss: 5.578.. Test Accuracy: 0.312\n",
            "Epoch: 15/30.. Training loss: 5.578.. Test loss: 5.578.. Test Accuracy: 0.323\n",
            "Epoch: 16/30.. Training loss: 5.578.. Test loss: 5.578.. Test Accuracy: 0.353\n",
            "Epoch: 17/30.. Training loss: 5.578.. Test loss: 5.578.. Test Accuracy: 0.344\n",
            "Epoch: 18/30.. Training loss: 5.578.. Test loss: 5.578.. Test Accuracy: 0.372\n",
            "Epoch: 19/30.. Training loss: 5.578.. Test loss: 5.578.. Test Accuracy: 0.377\n",
            "Epoch: 20/30.. Training loss: 5.578.. Test loss: 5.578.. Test Accuracy: 0.376\n",
            "Epoch: 21/30.. Training loss: 5.578.. Test loss: 5.578.. Test Accuracy: 0.369\n",
            "Epoch: 22/30.. Training loss: 5.578.. Test loss: 5.578.. Test Accuracy: 0.370\n",
            "Epoch: 23/30.. Training loss: 5.578.. Test loss: 5.578.. Test Accuracy: 0.381\n",
            "Epoch: 24/30.. Training loss: 5.578.. Test loss: 5.578.. Test Accuracy: 0.382\n",
            "Epoch: 25/30.. Training loss: 5.578.. Test loss: 5.578.. Test Accuracy: 0.381\n",
            "Epoch: 26/30.. Training loss: 5.578.. Test loss: 5.578.. Test Accuracy: 0.388\n",
            "Epoch: 27/30.. Training loss: 5.578.. Test loss: 5.578.. Test Accuracy: 0.383\n",
            "Epoch: 28/30.. Training loss: 5.578.. Test loss: 5.578.. Test Accuracy: 0.384\n",
            "Epoch: 29/30.. Training loss: 5.578.. Test loss: 5.578.. Test Accuracy: 0.382\n",
            "Epoch: 30/30.. Training loss: 5.578.. Test loss: 5.578.. Test Accuracy: 0.386\n"
          ],
          "name": "stdout"
        }
      ]
    },
    {
      "cell_type": "code",
      "metadata": {
        "id": "06HJFRLhTjZf",
        "outputId": "602ecd1b-18c7-4f11-9bc1-2cb7eaa4a40a",
        "colab": {
          "base_uri": "https://localhost:8080/",
          "height": 293
        }
      },
      "source": [
        "plt.plot(train_losses, label = \"Training loss\")\n",
        "plt.plot(test_losses, label = \"Validation loss\")\n",
        "plt.legend(frameon = False)"
      ],
      "execution_count": 109,
      "outputs": [
        {
          "output_type": "execute_result",
          "data": {
            "text/plain": [
              "<matplotlib.legend.Legend at 0x7f2d58a87320>"
            ]
          },
          "metadata": {
            "tags": []
          },
          "execution_count": 109
        },
        {
          "output_type": "display_data",
          "data": {
            "image/png": "[encoded data removed]",
            "text/plain": [
              "<Figure size 432x288 with 1 Axes>"
            ]
          },
          "metadata": {
            "tags": [],
            "needs_background": "light"
          }
        }
      ]
    },
    {
      "cell_type": "code",
      "metadata": {
        "id": "l1rSPssG4vMB"
      },
      "source": [
        ""
      ],
      "execution_count": null,
      "outputs": []
    }
  ]
}